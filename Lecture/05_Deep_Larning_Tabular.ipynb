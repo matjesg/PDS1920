{
 "cells": [
  {
   "cell_type": "markdown",
   "metadata": {
    "slideshow": {
     "slide_type": "slide"
    }
   },
   "source": [
    "<div class='bar_title'></div>\n",
    "\n",
    "*Practical Data Science*\n",
    "\n",
    "# Deep Learning on Tabular Data\n",
    "\n",
    "Matthias Griebel<br>\n",
    "Chair of Information Systems and Management\n",
    "\n",
    "Winter Semester 19/20"
   ]
  },
  {
   "cell_type": "markdown",
   "metadata": {
    "slideshow": {
     "slide_type": "subslide"
    },
    "toc": true
   },
   "source": [
    "<h1>Table of Contents<span class=\"tocSkip\"></span></h1>\n",
    "<div class=\"toc\"><ul class=\"toc-item\"><li><span><a href=\"#Motivation\" data-toc-modified-id=\"Motivation-1\"><span class=\"toc-item-num\">1&nbsp;&nbsp;</span>Motivation</a></span></li><li><span><a href=\"#Artificial-Neural-Networks\" data-toc-modified-id=\"Artificial-Neural-Networks-2\"><span class=\"toc-item-num\">2&nbsp;&nbsp;</span>Artificial Neural Networks</a></span><ul class=\"toc-item\"><li><span><a href=\"#The-Perceptron\" data-toc-modified-id=\"The-Perceptron-2.1\"><span class=\"toc-item-num\">2.1&nbsp;&nbsp;</span>The Perceptron</a></span></li><li><span><a href=\"#Multi-layer-Perceptron-aka.-Neural-Networks\" data-toc-modified-id=\"Multi-layer-Perceptron-aka.-Neural-Networks-2.2\"><span class=\"toc-item-num\">2.2&nbsp;&nbsp;</span>Multi-layer Perceptron aka. Neural Networks</a></span></li><li><span><a href=\"#Training-Neural-Networks\" data-toc-modified-id=\"Training-Neural-Networks-2.3\"><span class=\"toc-item-num\">2.3&nbsp;&nbsp;</span>Training Neural Networks</a></span></li></ul></li><li><span><a href=\"#Deep-Learning-on-Tabular-Data-with-fast.ai\" data-toc-modified-id=\"Deep-Learning-on-Tabular-Data-with-fast.ai-3\"><span class=\"toc-item-num\">3&nbsp;&nbsp;</span>Deep Learning on Tabular Data with <em>fast.ai</em></a></span><ul class=\"toc-item\"><li><span><a href=\"#fast.ai-Datasets\" data-toc-modified-id=\"fast.ai-Datasets-3.1\"><span class=\"toc-item-num\">3.1&nbsp;&nbsp;</span><em>fast.ai</em> Datasets</a></span></li><li><span><a href=\"#Tabular-data-preprocessing\" data-toc-modified-id=\"Tabular-data-preprocessing-3.2\"><span class=\"toc-item-num\">3.2&nbsp;&nbsp;</span>Tabular data preprocessing</a></span></li></ul></li><li><span><a href=\"#Defining-a-Model\" data-toc-modified-id=\"Defining-a-Model-4\"><span class=\"toc-item-num\">4&nbsp;&nbsp;</span>Defining a Model</a></span></li><li><span><a href=\"#Model-Evaluation\" data-toc-modified-id=\"Model-Evaluation-5\"><span class=\"toc-item-num\">5&nbsp;&nbsp;</span>Model Evaluation</a></span></li><li><span><a href=\"#Embeddings-for-Categorical-Variables\" data-toc-modified-id=\"Embeddings-for-Categorical-Variables-6\"><span class=\"toc-item-num\">6&nbsp;&nbsp;</span>Embeddings for Categorical Variables</a></span><ul class=\"toc-item\"><li><span><a href=\"#Taking-Inspiration-from-Word-Embeddings\" data-toc-modified-id=\"Taking-Inspiration-from-Word-Embeddings-6.1\"><span class=\"toc-item-num\">6.1&nbsp;&nbsp;</span>Taking Inspiration from Word Embeddings</a></span></li><li><span><a href=\"#Applying-Embeddings-for-Categorical-Variables\" data-toc-modified-id=\"Applying-Embeddings-for-Categorical-Variables-6.2\"><span class=\"toc-item-num\">6.2&nbsp;&nbsp;</span>Applying Embeddings for Categorical Variables</a></span></li><li><span><a href=\"#Visualizing-Embeddings-with-Tensorboard\" data-toc-modified-id=\"Visualizing-Embeddings-with-Tensorboard-6.3\"><span class=\"toc-item-num\">6.3&nbsp;&nbsp;</span>Visualizing Embeddings with Tensorboard</a></span></li></ul></li></ul></div>"
   ]
  },
  {
   "cell_type": "markdown",
   "metadata": {
    "slideshow": {
     "slide_type": "subslide"
    }
   },
   "source": [
    "__Lessons Learned Assingment 1__\n",
    "\n",
    "- Use descriptive commit messages (see example)\n",
    "- Don't merge pull request"
   ]
  },
  {
   "cell_type": "markdown",
   "metadata": {
    "slideshow": {
     "slide_type": "subslide"
    }
   },
   "source": [
    "__Credits__\n",
    "\n",
    "- https://www.fast.ai/2018/04/29/categorical-embeddings/\n",
    "- https://confusedcoders.com/data-science/deep-learning/how-to-apply-deep-learning-on-tabular-data-with-fastai "
   ]
  },
  {
   "cell_type": "markdown",
   "metadata": {
    "slideshow": {
     "slide_type": "slide"
    }
   },
   "source": [
    "## Motivation"
   ]
  },
  {
   "cell_type": "markdown",
   "metadata": {},
   "source": [
    "There is a powerful technique that is winning Kaggle competitions and is widely used at Google (according to [Jeff Dean](https://twimlai.com/twiml-talk-124-systems-software-machine-learning-scale-jeff-dean/)), [Pinterest](https://medium.com/the-graph/applying-deep-learning-to-related-pins-a6fee3c92f5e), and [Instacart](https://tech.instacart.com/deep-learning-with-emojis-not-math-660ba1ad6cdc), yet that many people don’t even realize is possible: \n",
    "\n",
    "__the use of deep learning for tabular data, and in particular, the creation of embeddings for categorical variables.__\n",
    "\n",
    "Despite what you may have heard, you can use deep learning for the type of data you might keep in a SQL database, a Pandas DataFrame, or an Excel spreadsheet (including time-series data)."
   ]
  },
  {
   "cell_type": "markdown",
   "metadata": {
    "slideshow": {
     "slide_type": "subslide"
    }
   },
   "source": [
    "#### Pinterest: Finding Related Pins\n",
    "\n",
    "<img src=\"https://miro.medium.com/max/676/0*i-U3QUkyBhWVX4UK.png\" style=\"width:70%\" />\n",
    "\n",
    "*Source: [Pinterest/Medium](https://medium.com/the-graph/applying-deep-learning-to-related-pins-a6fee3c92f5e)*"
   ]
  },
  {
   "cell_type": "markdown",
   "metadata": {
    "slideshow": {
     "slide_type": "subslide"
    }
   },
   "source": [
    "__Instacart: Sorting shopping lists with deep learning__\n",
    "\n",
    "\n",
    "<img src=\"https://miro.medium.com/max/2454/1*LE3oybWmVghSDjPP99gxYg.png\" style=\"width:80%\" />\n",
    "\n",
    "\n",
    "*Source: [Instacart](https://tech.instacart.com/deep-learning-with-emojis-not-math-660ba1ad6cdc)*"
   ]
  },
  {
   "cell_type": "markdown",
   "metadata": {
    "slideshow": {
     "slide_type": "slide"
    }
   },
   "source": [
    "## Artificial Neural Networks"
   ]
  },
  {
   "cell_type": "markdown",
   "metadata": {
    "slideshow": {
     "slide_type": "subslide"
    }
   },
   "source": [
    "__What are neural networks?__"
   ]
  },
  {
   "cell_type": "markdown",
   "metadata": {
    "cell_style": "split"
   },
   "source": [
    "- Biological neural networks have interconnected neurons with dendrites that receive inputs, then based on these inputs they produce an output signal through an axon to another neuron\n",
    "- Artificial Neural Networks (ANN) are a machine learning framework that attempts to mimic the learning pattern of natural biological neural networks\n",
    "- The creation of ANN begins with the most basic form, a single perceptron"
   ]
  },
  {
   "cell_type": "markdown",
   "metadata": {
    "cell_style": "split"
   },
   "source": [
    "<img src=\"https://www.extremetech.com/wp-content/uploads/2013/09/340-640x426.jpg\" style=\"width:100%\" />\n",
    "\n",
    "\n",
    "\n",
    "\n"
   ]
  },
  {
   "cell_type": "markdown",
   "metadata": {
    "slideshow": {
     "slide_type": "subslide"
    }
   },
   "source": [
    "### The Perceptron"
   ]
  },
  {
   "cell_type": "markdown",
   "metadata": {
    "cell_style": "split"
   },
   "source": [
    "Developed by Frank Rosenblatt in 1957\n",
    "\n",
    "- Perceptrons have one or more weighted inputs, a bias, an activation function, and a single output\n",
    "- A perceptron receives inputs, multiplies them by some weight, and then passes them into an activation function to produce an output\n",
    "- The key idea is to “fire” / activate the neuron only if a sufficiently strong input signal is detected"
   ]
  },
  {
   "cell_type": "markdown",
   "metadata": {
    "cell_style": "split"
   },
   "source": [
    "<img src=\"https://miro.medium.com/max/2870/1*n6sJ4yZQzwKL9wnF5wnVNg.png\" style=\"width:100%\" />\n"
   ]
  },
  {
   "cell_type": "markdown",
   "metadata": {
    "slideshow": {
     "slide_type": "subslide"
    }
   },
   "source": [
    "__Different Activation Functions and their Graphs__"
   ]
  },
  {
   "cell_type": "markdown",
   "metadata": {
    "cell_style": "split",
    "slideshow": {
     "slide_type": "fragment"
    }
   },
   "source": [
    "<img src=\"https://miro.medium.com/max/1200/1*ZafDv3VUm60Eh10OeJu1vw.png\" style=\"width:100%\" />\n",
    "\n",
    "[Image Source](https://medium.com/@shrutijadon10104776/survey-on-activation-functions-for-deep-learning-9689331ba092)"
   ]
  },
  {
   "cell_type": "markdown",
   "metadata": {
    "cell_style": "split",
    "slideshow": {
     "slide_type": "fragment"
    }
   },
   "source": [
    "ReLU is the most commonly used Activation Functions, because of its simplicity during backpropagation and its not computationally expensive"
   ]
  },
  {
   "cell_type": "markdown",
   "metadata": {
    "slideshow": {
     "slide_type": "subslide"
    }
   },
   "source": [
    "### Multi-layer Perceptron aka. Neural Networks"
   ]
  },
  {
   "cell_type": "markdown",
   "metadata": {},
   "source": [
    "A MLP is composed of multiple layers of perceptrons \n",
    "\n",
    "<img src=\"https://camo.githubusercontent.com/d95fb90b396fc77c614cc6b176dd049066273f96/68747470733a2f2f7777772e64726f70626f782e636f6d2f732f717334746f6a763575356834386c662f6d756c74696c617965725f70657263657074726f6e2e706e673f7261773d31\" style=\"width:80%\" />\n",
    "\n",
    "[Image Source](https://github.com/PetarV-/TikZ/tree/master/Multilayer%20perceptron)"
   ]
  },
  {
   "cell_type": "markdown",
   "metadata": {
    "slideshow": {
     "slide_type": "subslide"
    }
   },
   "source": [
    "__Layers of a MLP__\n",
    "\n",
    "- Initial layer = input layer which is fed by the feature inputs\n",
    "- Last layer = output layer which creates the resulting outputs\n",
    "- Any layers in between are known as hidden layers because they do not directly “observe” the feature inputs or outputs"
   ]
  },
  {
   "cell_type": "markdown",
   "metadata": {
    "slideshow": {
     "slide_type": "subslide"
    }
   },
   "source": [
    "__Universal approximation theorem__\n",
    "\n",
    "From Wikipedia:\n",
    "\n",
    "_\"In the mathematical theory of artificial neural networks, the universal approximation theorem states that a feed-forward network with __a single hidden layer__ containing a finite number of neurons can approximate continuous functions [...] when given appropriate parameters; however, it does not touch upon __the algorithmic learnability of those parameters__.\"_"
   ]
  },
  {
   "cell_type": "markdown",
   "metadata": {
    "slideshow": {
     "slide_type": "subslide"
    }
   },
   "source": [
    "### Training Neural Networks\n",
    "\n",
    "Learning is adjustment of the weights of the connections between perceptrons according to some modification rule. \n",
    "\n",
    "- The Backpropagation algorithm searches for weight values that minimize the total error of the network over the set of training examples\n",
    "\n",
    "It consists of the repeated application of the following two passes.\n",
    "\n",
    "- __Forward pass__: in this step the network is activated on one example and the error of (each neuron of) the output layer is computed\n",
    "- __Backward pass__: in this step the network error is used for updating the weights"
   ]
  },
  {
   "cell_type": "markdown",
   "metadata": {
    "slideshow": {
     "slide_type": "subslide"
    }
   },
   "source": [
    "__Forward and Backward paths__\n",
    "\n",
    "<img src=\"https://miro.medium.com/max/3108/1*6q2Rgd8W9DoCN9Wfwc_9gw.png\" style=\"width:60%\" />\n",
    "\n",
    "[Image Source](https://medium.com/datathings/neural-networks-and-backpropagation-explained-in-a-simple-way-f540a3611f5e)"
   ]
  },
  {
   "cell_type": "markdown",
   "metadata": {
    "slideshow": {
     "slide_type": "subslide"
    }
   },
   "source": [
    "__MLP Example__\n",
    "\n",
    "We will work with the same dataset as in the last lecture, a sample of the adult dataset which has some census information on individuals. Again, we'll use it to train a model to predict whether salary is greater than $50k or not."
   ]
  },
  {
   "cell_type": "markdown",
   "metadata": {},
   "source": [
    "Load packages"
   ]
  },
  {
   "cell_type": "code",
   "execution_count": 1,
   "metadata": {},
   "outputs": [],
   "source": [
    "import pandas as pd\n",
    "from sklearn.model_selection import train_test_split\n",
    "from sklearn.impute import SimpleImputer\n",
    "from sklearn.preprocessing import StandardScaler\n",
    "from sklearn.neural_network import MLPClassifier\n",
    "from sklearn.metrics import accuracy_score"
   ]
  },
  {
   "cell_type": "markdown",
   "metadata": {
    "slideshow": {
     "slide_type": "fragment"
    }
   },
   "source": [
    "Load data set"
   ]
  },
  {
   "cell_type": "code",
   "execution_count": 2,
   "metadata": {},
   "outputs": [],
   "source": [
    "file_path = 'https://raw.githubusercontent.com/wi3jmu/PDS1920/master/Lecture/data/adult.csv'\n",
    "adult_data = pd.read_csv(file_path)\n",
    "adult_data = adult_data.assign(salary=(adult_data['salary']=='>=50k').astype(int))\n",
    "y = adult_data['salary']\n",
    "remove_cols = ['salary', 'salary']\n",
    "X = adult_data.drop(remove_cols, axis=1)\n",
    "X = adult_data.drop(columns=['salary'])"
   ]
  },
  {
   "cell_type": "markdown",
   "metadata": {
    "slideshow": {
     "slide_type": "subslide"
    }
   },
   "source": [
    "Split data set"
   ]
  },
  {
   "cell_type": "code",
   "execution_count": 3,
   "metadata": {},
   "outputs": [],
   "source": [
    "train_X, val_X, train_y, val_y = train_test_split(X, y, test_size=0.2, random_state = 0)"
   ]
  },
  {
   "cell_type": "markdown",
   "metadata": {},
   "source": [
    "Impute missing values (we will omit the categorical features here)"
   ]
  },
  {
   "cell_type": "code",
   "execution_count": 4,
   "metadata": {},
   "outputs": [],
   "source": [
    "simple_imputer = SimpleImputer()\n",
    "numCols = X.select_dtypes(['int', 'float']).columns.to_list()\n",
    "train_X_num = pd.DataFrame(simple_imputer.fit_transform(train_X[numCols]), columns=numCols, index=train_X.index)\n",
    "val_X_num = pd.DataFrame(simple_imputer.transform(val_X[numCols]), columns=numCols, index=val_X.index)"
   ]
  },
  {
   "cell_type": "markdown",
   "metadata": {
    "cell_style": "center",
    "slideshow": {
     "slide_type": "fragment"
    }
   },
   "source": [
    "Standardize numeric features"
   ]
  },
  {
   "cell_type": "code",
   "execution_count": 5,
   "metadata": {},
   "outputs": [],
   "source": [
    "scaler = StandardScaler()\n",
    "train_X_num_standardized = pd.DataFrame(scaler.fit_transform(train_X_num), columns=numCols, index=train_X.index)\n",
    "val_X_num_standardized = pd.DataFrame(scaler.transform(val_X_num), columns=numCols, index=val_X.index)"
   ]
  },
  {
   "cell_type": "markdown",
   "metadata": {
    "slideshow": {
     "slide_type": "subslide"
    }
   },
   "source": [
    "Train model"
   ]
  },
  {
   "cell_type": "code",
   "execution_count": 6,
   "metadata": {},
   "outputs": [
    {
     "data": {
      "text/plain": [
       "MLPClassifier(activation='relu', alpha=0.0001, batch_size='auto', beta_1=0.9,\n",
       "       beta_2=0.999, early_stopping=False, epsilon=1e-08,\n",
       "       hidden_layer_sizes=(100,), learning_rate='constant',\n",
       "       learning_rate_init=0.001, max_iter=200, momentum=0.9,\n",
       "       n_iter_no_change=10, nesterovs_momentum=True, power_t=0.5,\n",
       "       random_state=None, shuffle=True, solver='adam', tol=0.0001,\n",
       "       validation_fraction=0.1, verbose=False, warm_start=False)"
      ]
     },
     "execution_count": 6,
     "metadata": {},
     "output_type": "execute_result"
    }
   ],
   "source": [
    "model = MLPClassifier()\n",
    "model.fit(train_X_num_standardized, train_y)"
   ]
  },
  {
   "cell_type": "markdown",
   "metadata": {},
   "source": [
    "Evaluate predictions"
   ]
  },
  {
   "cell_type": "code",
   "execution_count": 7,
   "metadata": {},
   "outputs": [
    {
     "data": {
      "text/plain": [
       "0.8272685398433901"
      ]
     },
     "execution_count": 7,
     "metadata": {},
     "output_type": "execute_result"
    }
   ],
   "source": [
    "preds = model.predict(val_X_num_standardized)\n",
    "accuracy_score(val_y, preds)"
   ]
  },
  {
   "cell_type": "markdown",
   "metadata": {
    "slideshow": {
     "slide_type": "subslide"
    }
   },
   "source": [
    "__Advantages of Multi-layer Perceptrons__\n",
    "\n",
    "- Capability to learn non-linear models.\n",
    "- Capability to learn models in real-time (on-line learning) using `partial_fit`\n",
    "\n",
    "__The disadvantages of Multi-layer Perceptrons__\n",
    "- MLP with hidden layers have a non-convex loss function where there exists more than one local minimum. Therefore different random weight initializations can lead to different validation accuracy.\n",
    "- MLP requires tuning a number of hyperparameters such as the number of hidden neurons, layers, and iterations.\n",
    "- MLP is sensitive to feature scaling.\n",
    "\n",
    "[from scikit-learn](https://scikit-learn.org/stable/modules/neural_networks_supervised.html)"
   ]
  },
  {
   "cell_type": "markdown",
   "metadata": {
    "slideshow": {
     "slide_type": "subslide"
    }
   },
   "source": [
    "__Is this already deep learning?__\n",
    "\n",
    "From Wikipedia: \n",
    "\n",
    "_\"Deep learning [...] uses multiple layers to progressively extract higher level features from the raw input. For example, in image processing, lower layers may identify edges, while higher layers may identify the concepts relevant to a human such as digits or letters or faces.\"_ \n"
   ]
  },
  {
   "cell_type": "markdown",
   "metadata": {
    "cell_style": "center",
    "slideshow": {
     "slide_type": "slide"
    }
   },
   "source": [
    "## Deep Learning on Tabular Data with *fast.ai*"
   ]
  },
  {
   "cell_type": "markdown",
   "metadata": {
    "slideshow": {
     "slide_type": "subslide"
    }
   },
   "source": [
    "__Mission of fast.ai__\n",
    "\n",
    "Deep learning is transforming the world. We are making deep learning easier to use and getting more people from all backgrounds involved through our:\n",
    "\n",
    "- free courses for coders\n",
    "- software library\n",
    "- cutting-edge research\n",
    "- community\n",
    "\n",
    "The world needs everyone involved with AI, no matter how unlikely your background.\n",
    "\n",
    "from [fast.ai](https://www.fast.ai/about/)"
   ]
  },
  {
   "cell_type": "markdown",
   "metadata": {
    "slideshow": {
     "slide_type": "subslide"
    }
   },
   "source": [
    "First, let's import everything we need for the tabular application."
   ]
  },
  {
   "cell_type": "code",
   "execution_count": 8,
   "metadata": {},
   "outputs": [],
   "source": [
    "from fastai import * \n",
    "from fastai.tabular import * "
   ]
  },
  {
   "cell_type": "markdown",
   "metadata": {},
   "source": [
    "`from <module> import *` means “I want access to all the names in <module> that I’m meant to have access to”"
   ]
  },
  {
   "cell_type": "markdown",
   "metadata": {
    "slideshow": {
     "slide_type": "subslide"
    }
   },
   "source": [
    "### *fast.ai* Datasets\n",
    "\n",
    "Tabular data usually comes in the form of a delimited file (such as .csv) containing variables of different kinds: text/category, numbers, and perhaps some missing values. \n",
    "\n",
    "*Fast.ai's* [dataset module](https://docs.fast.ai/datasets.html#datasets) has necessary functions to be able to download several useful [datasets](https://course.fast.ai/datasets) that we might be interested in using in our models.\n",
    "\n",
    "We will work with the same dataset as in the last lecture, a sample of the __adult dataset__ which has some census information on individuals. Again, we'll use it to train a model to predict whether salary is greater than \\$50k or not."
   ]
  },
  {
   "cell_type": "code",
   "execution_count": 9,
   "metadata": {},
   "outputs": [
    {
     "name": "stderr",
     "output_type": "stream",
     "text": [
      "/Users/matjes/anaconda3/envs/pds1920/lib/python3.7/site-packages/fastai/datasets.py:75: YAMLLoadWarning: calling yaml.load() without Loader=... is deprecated, as the default Loader is unsafe. Please read https://msg.pyyaml.org/load for full details.\n",
      "  with open(fpath, 'r') as yaml_file: return yaml.load(yaml_file)\n"
     ]
    },
    {
     "data": {
      "text/plain": [
       "PosixPath('/Users/matjes/.fastai/data/adult_sample')"
      ]
     },
     "execution_count": 9,
     "metadata": {},
     "output_type": "execute_result"
    }
   ],
   "source": [
    "path = untar_data(url=URLs.ADULT_SAMPLE); path"
   ]
  },
  {
   "cell_type": "markdown",
   "metadata": {},
   "source": [
    "`untar_data()`downloads a dataset from `url` and unpacks it to `path`."
   ]
  },
  {
   "cell_type": "code",
   "execution_count": 10,
   "metadata": {
    "slideshow": {
     "slide_type": "subslide"
    }
   },
   "outputs": [
    {
     "data": {
      "text/html": [
       "<div>\n",
       "<style scoped>\n",
       "    .dataframe tbody tr th:only-of-type {\n",
       "        vertical-align: middle;\n",
       "    }\n",
       "\n",
       "    .dataframe tbody tr th {\n",
       "        vertical-align: top;\n",
       "    }\n",
       "\n",
       "    .dataframe thead th {\n",
       "        text-align: right;\n",
       "    }\n",
       "</style>\n",
       "<table border=\"1\" class=\"dataframe\">\n",
       "  <thead>\n",
       "    <tr style=\"text-align: right;\">\n",
       "      <th></th>\n",
       "      <th>age</th>\n",
       "      <th>workclass</th>\n",
       "      <th>fnlwgt</th>\n",
       "      <th>education</th>\n",
       "      <th>education-num</th>\n",
       "      <th>marital-status</th>\n",
       "      <th>occupation</th>\n",
       "      <th>relationship</th>\n",
       "      <th>race</th>\n",
       "      <th>sex</th>\n",
       "      <th>capital-gain</th>\n",
       "      <th>capital-loss</th>\n",
       "      <th>hours-per-week</th>\n",
       "      <th>native-country</th>\n",
       "      <th>salary</th>\n",
       "    </tr>\n",
       "  </thead>\n",
       "  <tbody>\n",
       "    <tr>\n",
       "      <td>0</td>\n",
       "      <td>49</td>\n",
       "      <td>Private</td>\n",
       "      <td>101320</td>\n",
       "      <td>Assoc-acdm</td>\n",
       "      <td>12.0</td>\n",
       "      <td>Married-civ-spouse</td>\n",
       "      <td>NaN</td>\n",
       "      <td>Wife</td>\n",
       "      <td>White</td>\n",
       "      <td>Female</td>\n",
       "      <td>0</td>\n",
       "      <td>1902</td>\n",
       "      <td>40</td>\n",
       "      <td>United-States</td>\n",
       "      <td>&gt;=50k</td>\n",
       "    </tr>\n",
       "    <tr>\n",
       "      <td>1</td>\n",
       "      <td>44</td>\n",
       "      <td>Private</td>\n",
       "      <td>236746</td>\n",
       "      <td>Masters</td>\n",
       "      <td>14.0</td>\n",
       "      <td>Divorced</td>\n",
       "      <td>Exec-managerial</td>\n",
       "      <td>Not-in-family</td>\n",
       "      <td>White</td>\n",
       "      <td>Male</td>\n",
       "      <td>10520</td>\n",
       "      <td>0</td>\n",
       "      <td>45</td>\n",
       "      <td>United-States</td>\n",
       "      <td>&gt;=50k</td>\n",
       "    </tr>\n",
       "    <tr>\n",
       "      <td>2</td>\n",
       "      <td>38</td>\n",
       "      <td>Private</td>\n",
       "      <td>96185</td>\n",
       "      <td>HS-grad</td>\n",
       "      <td>NaN</td>\n",
       "      <td>Divorced</td>\n",
       "      <td>NaN</td>\n",
       "      <td>Unmarried</td>\n",
       "      <td>Black</td>\n",
       "      <td>Female</td>\n",
       "      <td>0</td>\n",
       "      <td>0</td>\n",
       "      <td>32</td>\n",
       "      <td>United-States</td>\n",
       "      <td>&lt;50k</td>\n",
       "    </tr>\n",
       "    <tr>\n",
       "      <td>3</td>\n",
       "      <td>38</td>\n",
       "      <td>Self-emp-inc</td>\n",
       "      <td>112847</td>\n",
       "      <td>Prof-school</td>\n",
       "      <td>15.0</td>\n",
       "      <td>Married-civ-spouse</td>\n",
       "      <td>Prof-specialty</td>\n",
       "      <td>Husband</td>\n",
       "      <td>Asian-Pac-Islander</td>\n",
       "      <td>Male</td>\n",
       "      <td>0</td>\n",
       "      <td>0</td>\n",
       "      <td>40</td>\n",
       "      <td>United-States</td>\n",
       "      <td>&gt;=50k</td>\n",
       "    </tr>\n",
       "    <tr>\n",
       "      <td>4</td>\n",
       "      <td>42</td>\n",
       "      <td>Self-emp-not-inc</td>\n",
       "      <td>82297</td>\n",
       "      <td>7th-8th</td>\n",
       "      <td>NaN</td>\n",
       "      <td>Married-civ-spouse</td>\n",
       "      <td>Other-service</td>\n",
       "      <td>Wife</td>\n",
       "      <td>Black</td>\n",
       "      <td>Female</td>\n",
       "      <td>0</td>\n",
       "      <td>0</td>\n",
       "      <td>50</td>\n",
       "      <td>United-States</td>\n",
       "      <td>&lt;50k</td>\n",
       "    </tr>\n",
       "  </tbody>\n",
       "</table>\n",
       "</div>"
      ],
      "text/plain": [
       "   age          workclass  fnlwgt     education  education-num  \\\n",
       "0   49            Private  101320    Assoc-acdm           12.0   \n",
       "1   44            Private  236746       Masters           14.0   \n",
       "2   38            Private   96185       HS-grad            NaN   \n",
       "3   38       Self-emp-inc  112847   Prof-school           15.0   \n",
       "4   42   Self-emp-not-inc   82297       7th-8th            NaN   \n",
       "\n",
       "        marital-status        occupation    relationship                 race  \\\n",
       "0   Married-civ-spouse               NaN            Wife                White   \n",
       "1             Divorced   Exec-managerial   Not-in-family                White   \n",
       "2             Divorced               NaN       Unmarried                Black   \n",
       "3   Married-civ-spouse    Prof-specialty         Husband   Asian-Pac-Islander   \n",
       "4   Married-civ-spouse     Other-service            Wife                Black   \n",
       "\n",
       "       sex  capital-gain  capital-loss  hours-per-week  native-country salary  \n",
       "0   Female             0          1902              40   United-States  >=50k  \n",
       "1     Male         10520             0              45   United-States  >=50k  \n",
       "2   Female             0             0              32   United-States   <50k  \n",
       "3     Male             0             0              40   United-States  >=50k  \n",
       "4   Female             0             0              50   United-States   <50k  "
      ]
     },
     "execution_count": 10,
     "metadata": {},
     "output_type": "execute_result"
    }
   ],
   "source": [
    "df = pd.read_csv(path/'adult.csv')\n",
    "df.head()"
   ]
  },
  {
   "cell_type": "markdown",
   "metadata": {
    "slideshow": {
     "slide_type": "-"
    }
   },
   "source": [
    "Here all the information that will form our input is in the 14 first columns, and the dependent variable is the last column. We will split our input between two types of variables: categorical and continuous."
   ]
  },
  {
   "cell_type": "markdown",
   "metadata": {
    "slideshow": {
     "slide_type": "subslide"
    }
   },
   "source": [
    "- **Categorical variables** will be replaced by a category - a unique id that identifies them - before they are passed through an embedding layer.\n",
    "- **Continuous variables** will be normalized and then directly fed to the model.\n",
    "\n",
    "Another thing we need to handle are the missing values: our model isn't going to like receiving NaNs so we should remove them in a smart way.\n",
    "\n"
   ]
  },
  {
   "cell_type": "markdown",
   "metadata": {
    "slideshow": {
     "slide_type": "subslide"
    }
   },
   "source": [
    "### Tabular data preprocessing\n",
    "\n",
    "fast.ai contains classes that define [transformations](https://docs.fast.ai/tabular.transform.html) for preprocessing dataframes of tabular data. Preprocessing includes things like\n",
    "\n",
    "- `Categorify`: replacing non-numerical variables by categories, i.e, their unique category id\n",
    "- `FillMissing`: filling missing values (default fill strategy: median)\n",
    "- `Normalize:` normalizing continuous variables"
   ]
  },
  {
   "cell_type": "markdown",
   "metadata": {
    "slideshow": {
     "slide_type": "fragment"
    }
   },
   "source": [
    "We can define a list of Transforms that will be applied to our variables. Here we transform all categorical variables into categories. We also replace missing values for continuous variables by the median column value and normalize those."
   ]
  },
  {
   "cell_type": "code",
   "execution_count": 11,
   "metadata": {},
   "outputs": [],
   "source": [
    "procs = [FillMissing, Categorify, Normalize]"
   ]
  },
  {
   "cell_type": "markdown",
   "metadata": {
    "slideshow": {
     "slide_type": "subslide"
    }
   },
   "source": [
    "__Categorical and continuous variables__\n",
    "\n",
    "Then let's manually assign our variables to dependent, categorical and continuous variables\n",
    "- fast.ai will assume all variables that aren't dependent or categorical are continuous, unless we explicitly pass a list to the `cont_names` parameter when constructing our DataBunch."
   ]
  },
  {
   "cell_type": "code",
   "execution_count": 12,
   "metadata": {},
   "outputs": [],
   "source": [
    "dep_var = 'salary'\n",
    "cat_names = ['workclass', 'education', 'marital-status', 'occupation', \n",
    "             'relationship', 'race', 'sex', 'native-country']"
   ]
  },
  {
   "cell_type": "markdown",
   "metadata": {
    "slideshow": {
     "slide_type": "subslide"
    }
   },
   "source": [
    "__Training and validation sets__\n",
    "\n",
    "To split our data into training and validation sets, we use valid indexes"
   ]
  },
  {
   "cell_type": "code",
   "execution_count": 13,
   "metadata": {},
   "outputs": [
    {
     "data": {
      "text/plain": [
       "[15282, 24870, 18822, 26404, 7842]"
      ]
     },
     "execution_count": 13,
     "metadata": {},
     "output_type": "execute_result"
    }
   ],
   "source": [
    "train_idx, valid_idx = train_test_split(range(len(df)), test_size=0.2, random_state = 0)\n",
    "train_idx[:5]"
   ]
  },
  {
   "cell_type": "markdown",
   "metadata": {
    "slideshow": {
     "slide_type": "subslide"
    }
   },
   "source": [
    "__Creating the DataBunch__\n",
    "\n",
    "Now we're ready to pass this information to `TabularDataBunch.from_df` to create the DataBunch that we'll use for training. We will learn the details of the `DataBunch` class in the next lecture."
   ]
  },
  {
   "cell_type": "code",
   "execution_count": 14,
   "metadata": {},
   "outputs": [],
   "source": [
    "data = TabularDataBunch.from_df(path, df, dep_var, valid_idx=valid_idx, \n",
    "                                procs=procs, cat_names=cat_names, bs=32)"
   ]
  },
  {
   "cell_type": "markdown",
   "metadata": {
    "slideshow": {
     "slide_type": "subslide"
    }
   },
   "source": [
    "We can grab a mini-batch of data and take a look. `show_batch` shows a batch of data in a convenient way:"
   ]
  },
  {
   "cell_type": "code",
   "execution_count": 15,
   "metadata": {
    "scrolled": false
   },
   "outputs": [
    {
     "data": {
      "text/html": [
       "<table>  <col width='10%'>  <col width='10%'>  <col width='10%'>  <col width='10%'>  <col width='10%'>  <col width='10%'>  <col width='10%'>  <col width='10%'>  <col width='10%'>  <col width='10%'>  <col width='10%'>  <col width='10%'>  <col width='10%'>  <col width='10%'>  <col width='10%'>  <col width='10%'>  <tr>\n",
       "    <th>workclass</th>\n",
       "    <th>education</th>\n",
       "    <th>marital-status</th>\n",
       "    <th>occupation</th>\n",
       "    <th>relationship</th>\n",
       "    <th>race</th>\n",
       "    <th>sex</th>\n",
       "    <th>native-country</th>\n",
       "    <th>education-num_na</th>\n",
       "    <th>age</th>\n",
       "    <th>capital-loss</th>\n",
       "    <th>fnlwgt</th>\n",
       "    <th>hours-per-week</th>\n",
       "    <th>education-num</th>\n",
       "    <th>capital-gain</th>\n",
       "    <th>target</th>\n",
       "  </tr>\n",
       "  <tr>\n",
       "    <th> Private</th>\n",
       "    <th> HS-grad</th>\n",
       "    <th> Married-civ-spouse</th>\n",
       "    <th> Sales</th>\n",
       "    <th> Husband</th>\n",
       "    <th> White</th>\n",
       "    <th> Male</th>\n",
       "    <th> United-States</th>\n",
       "    <th>False</th>\n",
       "    <th>1.7109</th>\n",
       "    <th>-0.2169</th>\n",
       "    <th>-0.5080</th>\n",
       "    <th>-1.9734</th>\n",
       "    <th>-0.4200</th>\n",
       "    <th>-0.1464</th>\n",
       "    <th><50k</th>\n",
       "  </tr>\n",
       "</table>\n"
      ],
      "text/plain": [
       "<IPython.core.display.HTML object>"
      ]
     },
     "metadata": {},
     "output_type": "display_data"
    }
   ],
   "source": [
    "data.show_batch(1)"
   ]
  },
  {
   "cell_type": "markdown",
   "metadata": {},
   "source": [
    "After being processed, the categorical variables are replaced by ids and the continuous variables are normalized. The codes corresponding to categorical variables are all put together, as are all the continuous variables.\n",
    "\n",
    "__Note__: As we pick out batches randomly, the output of `show_batch` may not correspond to the output below."
   ]
  },
  {
   "cell_type": "code",
   "execution_count": null,
   "metadata": {},
   "outputs": [],
   "source": [
    "next(iter(data.train_dl))"
   ]
  },
  {
   "cell_type": "markdown",
   "metadata": {
    "slideshow": {
     "slide_type": "subslide"
    }
   },
   "source": [
    "__A few things to keep in mind here__\n",
    "\n",
    "- __Data Bunch__: A data format for fast.ai input\n",
    "- __Dependent variable__: The variable to predict\n",
    "- __Categorical columns__: The text/label columns. Or the columns with low cardinality, eg. gender, type, year etc.\n",
    "- __Continuous columns__: Numeric value columns, usually with higher cardinality, eg. salary, price, temperature.\n",
    "- __Transformations__: Feature engineering and handling data, eg. Missing values, Normalisation etc"
   ]
  },
  {
   "cell_type": "markdown",
   "metadata": {
    "slideshow": {
     "slide_type": "slide"
    }
   },
   "source": [
    "## Defining a Model"
   ]
  },
  {
   "cell_type": "markdown",
   "metadata": {
    "slideshow": {
     "slide_type": "subslide"
    }
   },
   "source": [
    "Once we have our data ready in a `DataBunch`, we just need to create a model to then define a Learner and start training. \n",
    "\n",
    "This is typically composed of following steps :\n",
    "\n",
    "1. __Create Learner__: Create an appropriate learner for data. A learner creates a neural network for us.\n",
    "2. __Find the learning rate__: We need to find a suitable learning rate for our training\n",
    "3. __Fit the model__"
   ]
  },
  {
   "cell_type": "markdown",
   "metadata": {
    "slideshow": {
     "slide_type": "subslide"
    }
   },
   "source": [
    "__Create Learner__\n",
    "\n",
    "The fastai library has a flexible and powerful `TabularModel` in `models.tabular`. To use that function, we just need to specify the embedding sizes for each of our categorical variables."
   ]
  },
  {
   "cell_type": "code",
   "execution_count": 16,
   "metadata": {},
   "outputs": [],
   "source": [
    "learn = tabular_learner(data, layers=[200,100], emb_szs={'native-country': 10}, metrics=accuracy)"
   ]
  },
  {
   "cell_type": "markdown",
   "metadata": {
    "slideshow": {
     "slide_type": "subslide"
    }
   },
   "source": [
    "__Schematic Network architecture__\n",
    "\n",
    "Fastai figures out the default values for our model but lot of these can be customised while creating the data bunch and learner. \n",
    "\n",
    "\n",
    "<img src=\"https://confusedcoders.com/wp-content/uploads/2019/06/untitled-3-1024x403.jpg\" style=\"width:100%\" />\n",
    "\n",
    "[Source](https://confusedcoders.com/wp-content/uploads/2019/06/untitled-3-1024x403.jpg)"
   ]
  },
  {
   "cell_type": "markdown",
   "metadata": {
    "slideshow": {
     "slide_type": "subslide"
    }
   },
   "source": [
    "Let's print a summary of the model."
   ]
  },
  {
   "cell_type": "code",
   "execution_count": 17,
   "metadata": {},
   "outputs": [
    {
     "name": "stdout",
     "output_type": "stream",
     "text": [
      "======================================================================\n",
      "Layer (type)         Output Shape         Param #    Trainable \n",
      "======================================================================\n",
      "Embedding            [32, 6]              60         True      \n",
      "______________________________________________________________________\n",
      "Embedding            [32, 8]              136        True      \n",
      "______________________________________________________________________\n",
      "Embedding            [32, 5]              40         True      \n",
      "______________________________________________________________________\n",
      "Embedding            [32, 8]              128        True      \n",
      "______________________________________________________________________\n",
      "Embedding            [32, 5]              35         True      \n",
      "______________________________________________________________________\n",
      "Embedding            [32, 4]              24         True      \n",
      "______________________________________________________________________\n",
      "Embedding            [32, 3]              9          True      \n",
      "______________________________________________________________________\n",
      "Embedding            [32, 10]             430        True      \n",
      "______________________________________________________________________\n",
      "Embedding            [32, 3]              9          True      \n",
      "______________________________________________________________________\n",
      "Dropout              [32, 52]             0          False     \n",
      "______________________________________________________________________\n",
      "BatchNorm1d          [32, 6]              12         True      \n",
      "______________________________________________________________________\n",
      "Linear               [32, 200]            11800      True      \n",
      "______________________________________________________________________\n",
      "ReLU                 [32, 100]            0          False     \n",
      "______________________________________________________________________\n",
      "BatchNorm1d          [32, 200]            400        True      \n",
      "______________________________________________________________________\n",
      "Linear               [32, 100]            20100      True      \n",
      "______________________________________________________________________\n",
      "BatchNorm1d          [32, 100]            200        True      \n",
      "______________________________________________________________________\n",
      "Linear               [32, 2]              202        True      \n",
      "______________________________________________________________________\n",
      "\n",
      "Total params:  33585\n",
      "Total trainable params:  33585\n",
      "Total non-trainable params:  0\n"
     ]
    }
   ],
   "source": [
    "learn.summary()"
   ]
  },
  {
   "cell_type": "markdown",
   "metadata": {
    "slideshow": {
     "slide_type": "subslide"
    }
   },
   "source": [
    "__Find the learning rate__"
   ]
  },
  {
   "cell_type": "code",
   "execution_count": 18,
   "metadata": {},
   "outputs": [
    {
     "data": {
      "text/html": [],
      "text/plain": [
       "<IPython.core.display.HTML object>"
      ]
     },
     "metadata": {},
     "output_type": "display_data"
    },
    {
     "name": "stdout",
     "output_type": "stream",
     "text": [
      "LR Finder is complete, type {learner_name}.recorder.plot() to see the graph.\n"
     ]
    }
   ],
   "source": [
    "learn.lr_find()"
   ]
  },
  {
   "cell_type": "code",
   "execution_count": 19,
   "metadata": {},
   "outputs": [
    {
     "data": {
      "image/png": "[encoded data removed]",
      "text/plain": [
       "<Figure size 432x288 with 1 Axes>"
      ]
     },
     "metadata": {
      "needs_background": "light"
     },
     "output_type": "display_data"
    }
   ],
   "source": [
    "learn.recorder.plot()"
   ]
  },
  {
   "cell_type": "markdown",
   "metadata": {},
   "source": [
    "We typically find the point where the slope is steepest"
   ]
  },
  {
   "cell_type": "markdown",
   "metadata": {
    "slideshow": {
     "slide_type": "subslide"
    }
   },
   "source": [
    "__Fit the model__ based on selected learning rate"
   ]
  },
  {
   "cell_type": "code",
   "execution_count": 20,
   "metadata": {},
   "outputs": [
    {
     "data": {
      "text/html": [
       "<table border=\"1\" class=\"dataframe\">\n",
       "  <thead>\n",
       "    <tr style=\"text-align: left;\">\n",
       "      <th>epoch</th>\n",
       "      <th>train_loss</th>\n",
       "      <th>valid_loss</th>\n",
       "      <th>accuracy</th>\n",
       "    </tr>\n",
       "  </thead>\n",
       "  <tbody>\n",
       "    <tr>\n",
       "      <td>1</td>\n",
       "      <td>0.354564</td>\n",
       "      <td>0.328987</td>\n",
       "      <td>0.841548</td>\n",
       "    </tr>\n",
       "    <tr>\n",
       "      <td>2</td>\n",
       "      <td>0.328493</td>\n",
       "      <td>0.318304</td>\n",
       "      <td>0.851374</td>\n",
       "    </tr>\n",
       "  </tbody>\n",
       "</table>"
      ],
      "text/plain": [
       "<IPython.core.display.HTML object>"
      ]
     },
     "metadata": {},
     "output_type": "display_data"
    }
   ],
   "source": [
    "learn.fit_one_cycle(2, max_lr=slice(1e-02))"
   ]
  },
  {
   "cell_type": "markdown",
   "metadata": {
    "slideshow": {
     "slide_type": "slide"
    }
   },
   "source": [
    "## Model Evaluation"
   ]
  },
  {
   "cell_type": "markdown",
   "metadata": {
    "slideshow": {
     "slide_type": "subslide"
    }
   },
   "source": [
    "__Get predictions__"
   ]
  },
  {
   "cell_type": "markdown",
   "metadata": {
    "slideshow": {
     "slide_type": "-"
    }
   },
   "source": [
    "We can use the `Learner.predict` method to get predictions. In this case, we need to pass the row of a dataframe that has the same names of categorical and continuous variables as our training or validation dataframe."
   ]
  },
  {
   "cell_type": "code",
   "execution_count": 21,
   "metadata": {},
   "outputs": [
    {
     "data": {
      "text/plain": [
       "(Category >=50k, tensor(1), tensor([0.2780, 0.7220]))"
      ]
     },
     "execution_count": 21,
     "metadata": {},
     "output_type": "execute_result"
    }
   ],
   "source": [
    "learn.predict(df.iloc[1])"
   ]
  },
  {
   "cell_type": "markdown",
   "metadata": {
    "slideshow": {
     "slide_type": "fragment"
    }
   },
   "source": [
    "To get predictions on the entire training dataset, simply set the ds_type argument accordingly."
   ]
  },
  {
   "cell_type": "code",
   "execution_count": 22,
   "metadata": {},
   "outputs": [
    {
     "data": {
      "text/plain": [
       "[tensor([[0.8683, 0.1317],\n",
       "         [0.1722, 0.8278],\n",
       "         [0.9985, 0.0015],\n",
       "         ...,\n",
       "         [0.0871, 0.9129],\n",
       "         [0.2822, 0.7178],\n",
       "         [0.9790, 0.0210]]), tensor([0, 0, 0,  ..., 1, 1, 0])]"
      ]
     },
     "execution_count": 22,
     "metadata": {},
     "output_type": "execute_result"
    }
   ],
   "source": [
    "learn.get_preds(ds_type=DatasetType.Valid)"
   ]
  },
  {
   "cell_type": "markdown",
   "metadata": {
    "slideshow": {
     "slide_type": "subslide"
    }
   },
   "source": [
    "__Show rows result of predictions on thme dataset__"
   ]
  },
  {
   "cell_type": "code",
   "execution_count": 23,
   "metadata": {
    "scrolled": true
   },
   "outputs": [
    {
     "data": {
      "text/html": [
       "<table>  <col width='10%'>  <col width='10%'>  <col width='10%'>  <col width='10%'>  <col width='10%'>  <col width='10%'>  <col width='10%'>  <col width='10%'>  <col width='10%'>  <col width='10%'>  <col width='10%'>  <col width='10%'>  <col width='10%'>  <col width='10%'>  <col width='10%'>  <col width='10%'>  <col width='10%'>  <tr>\n",
       "    <th>workclass</th>\n",
       "    <th>education</th>\n",
       "    <th>marital-status</th>\n",
       "    <th>occupation</th>\n",
       "    <th>relationship</th>\n",
       "    <th>race</th>\n",
       "    <th>sex</th>\n",
       "    <th>native-country</th>\n",
       "    <th>education-num_na</th>\n",
       "    <th>age</th>\n",
       "    <th>capital-loss</th>\n",
       "    <th>fnlwgt</th>\n",
       "    <th>hours-per-week</th>\n",
       "    <th>education-num</th>\n",
       "    <th>capital-gain</th>\n",
       "    <th>target</th>\n",
       "    <th>prediction</th>\n",
       "  </tr>\n",
       "  <tr>\n",
       "    <th> Self-emp-not-inc</th>\n",
       "    <th> 5th-6th</th>\n",
       "    <th> Married-civ-spouse</th>\n",
       "    <th> Farming-fishing</th>\n",
       "    <th> Husband</th>\n",
       "    <th> White</th>\n",
       "    <th> Male</th>\n",
       "    <th> Canada</th>\n",
       "    <th>False</th>\n",
       "    <th>1.8574</th>\n",
       "    <th>-0.2169</th>\n",
       "    <th>0.0323</th>\n",
       "    <th>2.3832</th>\n",
       "    <th>-2.7694</th>\n",
       "    <th>-0.1464</th>\n",
       "    <th><50k</th>\n",
       "    <th><50k</th>\n",
       "  </tr>\n",
       "  <tr>\n",
       "    <th> Private</th>\n",
       "    <th> Assoc-voc</th>\n",
       "    <th> Married-civ-spouse</th>\n",
       "    <th> Sales</th>\n",
       "    <th> Husband</th>\n",
       "    <th> White</th>\n",
       "    <th> Male</th>\n",
       "    <th> United-States</th>\n",
       "    <th>False</th>\n",
       "    <th>1.4912</th>\n",
       "    <th>4.1123</th>\n",
       "    <th>1.1793</th>\n",
       "    <th>0.7696</th>\n",
       "    <th>0.3631</th>\n",
       "    <th>-0.1464</th>\n",
       "    <th><50k</th>\n",
       "    <th>>=50k</th>\n",
       "  </tr>\n",
       "  <tr>\n",
       "    <th> Private</th>\n",
       "    <th> HS-grad</th>\n",
       "    <th> Never-married</th>\n",
       "    <th> Sales</th>\n",
       "    <th> Own-child</th>\n",
       "    <th> White</th>\n",
       "    <th> Female</th>\n",
       "    <th> United-States</th>\n",
       "    <th>False</th>\n",
       "    <th>-1.4379</th>\n",
       "    <th>-0.2169</th>\n",
       "    <th>0.0797</th>\n",
       "    <th>-0.4405</th>\n",
       "    <th>-0.4200</th>\n",
       "    <th>-0.1464</th>\n",
       "    <th><50k</th>\n",
       "    <th><50k</th>\n",
       "  </tr>\n",
       "  <tr>\n",
       "    <th> ?</th>\n",
       "    <th> Assoc-acdm</th>\n",
       "    <th> Never-married</th>\n",
       "    <th> ?</th>\n",
       "    <th> Own-child</th>\n",
       "    <th> White</th>\n",
       "    <th> Female</th>\n",
       "    <th> United-States</th>\n",
       "    <th>False</th>\n",
       "    <th>-0.5591</th>\n",
       "    <th>-0.2169</th>\n",
       "    <th>-1.4378</th>\n",
       "    <th>-1.2473</th>\n",
       "    <th>0.7547</th>\n",
       "    <th>-0.1464</th>\n",
       "    <th><50k</th>\n",
       "    <th><50k</th>\n",
       "  </tr>\n",
       "  <tr>\n",
       "    <th> Private</th>\n",
       "    <th> Assoc-acdm</th>\n",
       "    <th> Never-married</th>\n",
       "    <th> Exec-managerial</th>\n",
       "    <th> Not-in-family</th>\n",
       "    <th> White</th>\n",
       "    <th> Female</th>\n",
       "    <th> United-States</th>\n",
       "    <th>False</th>\n",
       "    <th>-0.2662</th>\n",
       "    <th>-0.2169</th>\n",
       "    <th>-1.4832</th>\n",
       "    <th>1.5764</th>\n",
       "    <th>0.7547</th>\n",
       "    <th>-0.1464</th>\n",
       "    <th><50k</th>\n",
       "    <th><50k</th>\n",
       "  </tr>\n",
       "</table>\n"
      ],
      "text/plain": [
       "<IPython.core.display.HTML object>"
      ]
     },
     "metadata": {},
     "output_type": "display_data"
    }
   ],
   "source": [
    "learn.show_results(ds_type=DatasetType.Valid)"
   ]
  },
  {
   "cell_type": "markdown",
   "metadata": {
    "slideshow": {
     "slide_type": "subslide"
    }
   },
   "source": [
    "__Get metric scores__"
   ]
  },
  {
   "cell_type": "code",
   "execution_count": 24,
   "metadata": {},
   "outputs": [
    {
     "data": {
      "text/plain": [
       "'[<function accuracy at 0x1a23f021e0>]'"
      ]
     },
     "execution_count": 24,
     "metadata": {},
     "output_type": "execute_result"
    }
   ],
   "source": [
    "str(learn.metrics)"
   ]
  },
  {
   "cell_type": "code",
   "execution_count": 25,
   "metadata": {},
   "outputs": [
    {
     "data": {
      "text/plain": [
       "[0.31830403, tensor(0.8514)]"
      ]
     },
     "execution_count": 25,
     "metadata": {},
     "output_type": "execute_result"
    }
   ],
   "source": [
    "learn.validate(learn.data.valid_dl)"
   ]
  },
  {
   "cell_type": "markdown",
   "metadata": {},
   "source": [
    "So there is a scope of improving the deep learning model here. However this is not bad at all, without any feature engineering and network tuning."
   ]
  },
  {
   "cell_type": "markdown",
   "metadata": {
    "slideshow": {
     "slide_type": "slide"
    }
   },
   "source": [
    "## Embeddings for Categorical Variables"
   ]
  },
  {
   "cell_type": "markdown",
   "metadata": {
    "slideshow": {
     "slide_type": "subslide"
    }
   },
   "source": [
    "A key technique to making the most of deep learning for tabular data is to use embeddings for your categorical variables. This approach allows for __relationships between categories__ to be captured.\n",
    "\n",
    "Examples:\n",
    "- Saturday and Sunday may have similar behavior, and maybe Friday behaves like an average of a weekend and a weekday. \n",
    "-  Similarly, for zip codes, there may be patterns for zip codes that are geographically near each other, and for zip codes that are of similar socio-economic status."
   ]
  },
  {
   "cell_type": "markdown",
   "metadata": {
    "slideshow": {
     "slide_type": "subslide"
    }
   },
   "source": [
    "### Taking Inspiration from Word Embeddings\n",
    "\n",
    "A way to capture these multi-dimensional relationships between categories is to use embeddings. This is the same idea as is used with word embeddings, such as Word2Vec.\n",
    "\n",
    "<img src=\"https://www.tensorflow.org/images/linear-relationships.png\" style=\"width:100%\" />\n",
    "\n",
    "[Source](https://www.tensorflow.org/images/linear-relationships.png)\n"
   ]
  },
  {
   "cell_type": "markdown",
   "metadata": {
    "slideshow": {
     "slide_type": "subslide"
    }
   },
   "source": [
    "### Applying Embeddings for Categorical Variables\n",
    "\n",
    "Similarly, when working with categorical variables, we will represent each category by a vector of floating point numbers (the values of this representation are learned as the network is trained).\n",
    "\n",
    "For instance, a 4-dimensional version of an embedding for day of week could look like:\n",
    "\n",
    "__Sunday\t [.8, .2, .1, .1]__<br>\n",
    "__Monday\t[.1, .2, .9, .9]__<br>\n",
    "__Tuesday\t[.2, .1, .9, .8]__\n",
    "\n",
    "Here, Monday and Tuesday are fairly similar, yet they are both quite different from Sunday. \n",
    "\n",
    "Again, this is a toy example. In practice, our neural network would learn the best representations for each category while it is training, and each dimension (or direction, which doesn’t necessarily line up with ordinal dimensions) could have multiple meanings. Rich relationships can be captured in these distributed representations."
   ]
  },
  {
   "cell_type": "markdown",
   "metadata": {
    "slideshow": {
     "slide_type": "subslide"
    }
   },
   "source": [
    "### Visualizing Embeddings with Tensorboard"
   ]
  },
  {
   "cell_type": "markdown",
   "metadata": {},
   "source": [
    "TensorBoard is a tool for providing the measurements and visualizations needed during the machine learning workflow. It enables \n",
    "\n",
    "- tracking experiment metrics like loss and accuracy, \n",
    "- visualizing the model graph, \n",
    "- projecting embeddings to a lower dimensional space, \n",
    "- and much more.\n",
    "\n",
    "Let's the TensorBoard notebook extension"
   ]
  },
  {
   "cell_type": "code",
   "execution_count": null,
   "metadata": {},
   "outputs": [],
   "source": [
    "%load_ext tensorboard"
   ]
  },
  {
   "cell_type": "markdown",
   "metadata": {
    "slideshow": {
     "slide_type": "subslide"
    }
   },
   "source": [
    "The SummaryWriter class is your main entry to log data"
   ]
  },
  {
   "cell_type": "code",
   "execution_count": null,
   "metadata": {},
   "outputs": [],
   "source": [
    "from torch.utils.tensorboard import SummaryWriter\n",
    "%load_ext tensorboard\n",
    "writer = SummaryWriter()"
   ]
  },
  {
   "cell_type": "markdown",
   "metadata": {
    "slideshow": {
     "slide_type": "fragment"
    }
   },
   "source": [
    "Write model architecture:"
   ]
  },
  {
   "cell_type": "code",
   "execution_count": null,
   "metadata": {},
   "outputs": [],
   "source": [
    "writer.add_graph(learn.model, next(iter(data.train_dl))[0])"
   ]
  },
  {
   "cell_type": "markdown",
   "metadata": {
    "slideshow": {
     "slide_type": "fragment"
    }
   },
   "source": [
    "Export embeddings:"
   ]
  },
  {
   "cell_type": "code",
   "execution_count": null,
   "metadata": {},
   "outputs": [],
   "source": [
    "emb_names = list(learn.data.x.classes.keys())\n",
    "for i, emb in enumerate(learn.model.embeds):\n",
    "    emb_name = emb_names[i]\n",
    "    writer.add_embedding(emb.weight.data, metadata=learn.data.x[0].classes[emb_name],\n",
    "                         global_step=i, tag=emb_name)"
   ]
  },
  {
   "cell_type": "markdown",
   "metadata": {
    "slideshow": {
     "slide_type": "-"
    }
   },
   "source": [
    "Finally, start tensorboard"
   ]
  },
  {
   "cell_type": "code",
   "execution_count": null,
   "metadata": {
    "slideshow": {
     "slide_type": "subslide"
    }
   },
   "outputs": [],
   "source": [
    "%tensorboard --logdir runs --host localhost"
   ]
  },
  {
   "cell_type": "markdown",
   "metadata": {
    "slideshow": {
     "slide_type": "subslide"
    }
   },
   "source": [
    "___Colab Workaround___\n",
    "\n",
    "In Colab the dynamic tensorborad plugin isn’t supported yet, but you can still access the data and visualize the embeddings somewhere else: \n",
    "\n",
    "1. Download the desired embedding file (*tensors.tsv*) and metadata \n",
    "<img src=\"https://raw.githubusercontent.com/wi3jmu/PDS1920/master/Lecture/images/05/colab_download.png\" style=\"width:30%\"/>\n",
    " \n",
    "2. Upload the files on the official Tensorflow [Embedding Projector](https://projector.tensorflow.org/)"
   ]
  }
 ],
 "metadata": {
  "kernelspec": {
   "display_name": "Python 3",
   "language": "python",
   "name": "python3"
  },
  "language_info": {
   "codemirror_mode": {
    "name": "ipython",
    "version": 3
   },
   "file_extension": ".py",
   "mimetype": "text/x-python",
   "name": "python",
   "nbconvert_exporter": "python",
   "pygments_lexer": "ipython3",
   "version": "3.7.3"
  },
  "rise": {
   "enable_chalkboard": false,
   "overlay": "<div class='background'></div><div class='header'>WS 19/20</br>PDS</div><div class='logo'><img src='images/unilogo.png'></div><div class='bar'></div>",
   "scroll": true,
   "slideNumber": "h.v"
  },
  "toc": {
   "base_numbering": 1,
   "nav_menu": {},
   "number_sections": true,
   "sideBar": true,
   "skip_h1_title": true,
   "title_cell": "Table of Contents",
   "title_sidebar": "Contents",
   "toc_cell": true,
   "toc_position": {},
   "toc_section_display": true,
   "toc_window_display": false
  }
 },
 "nbformat": 4,
 "nbformat_minor": 2
}
