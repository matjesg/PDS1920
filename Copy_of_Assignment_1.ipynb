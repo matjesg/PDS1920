{
  "nbformat": 4,
  "nbformat_minor": 0,
  "metadata": {
    "kernelspec": {
      "display_name": "Python 3",
      "language": "python",
      "name": "python3"
    },
    "language_info": {
      "codemirror_mode": {
        "name": "ipython",
        "version": 3
      },
      "file_extension": ".py",
      "mimetype": "text/x-python",
      "name": "python",
      "nbconvert_exporter": "python",
      "pygments_lexer": "ipython3",
      "version": "3.7.3"
    },
    "toc": {
      "base_numbering": "1",
      "nav_menu": {},
      "number_sections": true,
      "sideBar": true,
      "skip_h1_title": false,
      "title_cell": "Table of Contents",
      "title_sidebar": "Contents",
      "toc_cell": false,
      "toc_position": {
        "height": "calc(100% - 180px)",
        "left": "10px",
        "top": "150px",
        "width": "261.0714416503906px"
      },
      "toc_section_display": true,
      "toc_window_display": true
    },
    "colab": {
      "name": "Copy of Assignment_1.ipynb",
      "provenance": [],
      "include_colab_link": true
    }
  },
  "cells": [
    {
      "cell_type": "markdown",
      "metadata": {
        "id": "view-in-github",
        "colab_type": "text"
      },
      "source": [
        "<a href=\"https://colab.research.google.com/github/Gorgo0815/PDS1920/blob/master/Copy_of_Assignment_1.ipynb\" target=\"_parent\"><img src=\"https://colab.research.google.com/assets/colab-badge.svg\" alt=\"Open In Colab\"/></a>"
      ]
    },
    {
      "cell_type": "markdown",
      "metadata": {
        "id": "_LJtzh3gyJeK",
        "colab_type": "text"
      },
      "source": [
        "*Practical Data Science 19/20*\n",
        "# Programming Assignment"
      ]
    },
    {
      "cell_type": "markdown",
      "metadata": {
        "id": "D9ZUM37jyJeV",
        "colab_type": "text"
      },
      "source": [
        "In this programming assignment you need to apply your new `numpy`, `pandas` and `matplotlib` knowledge. You will need to do several [`groupby`](https://pandas.pydata.org/pandas-docs/stable/generated/pandas.DataFrame.groupby.html)s and [`join`](https://pandas.pydata.org/pandas-docs/stable/generated/pandas.DataFrame.join.html)`s to solve the task. "
      ]
    },
    {
      "cell_type": "markdown",
      "metadata": {
        "id": "ccCe76HZyJeY",
        "colab_type": "text"
      },
      "source": [
        "Load required packages"
      ]
    },
    {
      "cell_type": "code",
      "metadata": {
        "id": "P0yh5OpMyJeb",
        "colab_type": "code",
        "colab": {}
      },
      "source": [
        "import pandas as pd\n",
        "%matplotlib inline "
      ],
      "execution_count": 0,
      "outputs": []
    },
    {
      "cell_type": "markdown",
      "metadata": {
        "id": "tW2M9u_dyJem",
        "colab_type": "text"
      },
      "source": [
        "Load Data"
      ]
    },
    {
      "cell_type": "code",
      "metadata": {
        "id": "dfoJHfpMyJen",
        "colab_type": "code",
        "colab": {}
      },
      "source": [
        "DATA_URL = 'https://raw.githubusercontent.com/pds1920/_a1-template/master/data/'\n",
        "\n",
        "transactions    = pd.read_csv(DATA_URL + '/sales_train.csv.gz')\n",
        "items           = pd.read_csv(DATA_URL + '/items.csv')\n",
        "item_categories = pd.read_csv(DATA_URL + '/item_categories.csv')"
      ],
      "execution_count": 0,
      "outputs": []
    },
    {
      "cell_type": "markdown",
      "metadata": {
        "id": "5dLbP67eyJes",
        "colab_type": "text"
      },
      "source": [
        "## Get to know the data\n",
        "Print the **shape** of the loaded dataframes.\n",
        "- You can use a list comprehension here"
      ]
    },
    {
      "cell_type": "code",
      "metadata": {
        "id": "sMCA7YAZyJeu",
        "colab_type": "code",
        "colab": {
          "base_uri": "https://localhost:8080/",
          "height": 68
        },
        "outputId": "523a271f-1cd4-43a3-be6c-17d2776c5cd7"
      },
      "source": [
        "dfs = [transactions, items, item_categories]\n",
        "for n in dfs:\n",
        "  print(n.shape)\n"
      ],
      "execution_count": 5,
      "outputs": [
        {
          "output_type": "stream",
          "text": [
            "(1400001, 6)\n",
            "(22170, 3)\n",
            "(84, 2)\n"
          ],
          "name": "stdout"
        }
      ]
    },
    {
      "cell_type": "markdown",
      "metadata": {
        "id": "8DMCnVYvyJez",
        "colab_type": "text"
      },
      "source": [
        "Use [`df.head`](https://pandas.pydata.org/pandas-docs/stable/generated/pandas.DataFrame.head.html) function to print several rows of each data frame.  Examine the features you are given."
      ]
    },
    {
      "cell_type": "code",
      "metadata": {
        "id": "oo_zntyIyJe0",
        "colab_type": "code",
        "colab": {
          "base_uri": "https://localhost:8080/",
          "height": 204
        },
        "outputId": "61196398-d0e7-4bd3-fdfb-48a52c40331e"
      },
      "source": [
        "transactions.head()\n",
        "\n"
      ],
      "execution_count": 5,
      "outputs": [
        {
          "output_type": "execute_result",
          "data": {
            "text/html": [
              "<div>\n",
              "<style scoped>\n",
              "    .dataframe tbody tr th:only-of-type {\n",
              "        vertical-align: middle;\n",
              "    }\n",
              "\n",
              "    .dataframe tbody tr th {\n",
              "        vertical-align: top;\n",
              "    }\n",
              "\n",
              "    .dataframe thead th {\n",
              "        text-align: right;\n",
              "    }\n",
              "</style>\n",
              "<table border=\"1\" class=\"dataframe\">\n",
              "  <thead>\n",
              "    <tr style=\"text-align: right;\">\n",
              "      <th></th>\n",
              "      <th>date</th>\n",
              "      <th>date_block_num</th>\n",
              "      <th>shop_id</th>\n",
              "      <th>item_id</th>\n",
              "      <th>item_price</th>\n",
              "      <th>item_cnt_day</th>\n",
              "    </tr>\n",
              "  </thead>\n",
              "  <tbody>\n",
              "    <tr>\n",
              "      <th>0</th>\n",
              "      <td>14.10.2013</td>\n",
              "      <td>9</td>\n",
              "      <td>19</td>\n",
              "      <td>7204</td>\n",
              "      <td>199.0</td>\n",
              "      <td>1.0</td>\n",
              "    </tr>\n",
              "    <tr>\n",
              "      <th>1</th>\n",
              "      <td>23.10.2013</td>\n",
              "      <td>9</td>\n",
              "      <td>19</td>\n",
              "      <td>7096</td>\n",
              "      <td>799.0</td>\n",
              "      <td>1.0</td>\n",
              "    </tr>\n",
              "    <tr>\n",
              "      <th>2</th>\n",
              "      <td>19.10.2013</td>\n",
              "      <td>9</td>\n",
              "      <td>19</td>\n",
              "      <td>7204</td>\n",
              "      <td>199.0</td>\n",
              "      <td>1.0</td>\n",
              "    </tr>\n",
              "    <tr>\n",
              "      <th>3</th>\n",
              "      <td>17.10.2013</td>\n",
              "      <td>9</td>\n",
              "      <td>19</td>\n",
              "      <td>7206</td>\n",
              "      <td>199.0</td>\n",
              "      <td>1.0</td>\n",
              "    </tr>\n",
              "    <tr>\n",
              "      <th>4</th>\n",
              "      <td>13.10.2013</td>\n",
              "      <td>9</td>\n",
              "      <td>19</td>\n",
              "      <td>7459</td>\n",
              "      <td>299.0</td>\n",
              "      <td>1.0</td>\n",
              "    </tr>\n",
              "  </tbody>\n",
              "</table>\n",
              "</div>"
            ],
            "text/plain": [
              "         date  date_block_num  shop_id  item_id  item_price  item_cnt_day\n",
              "0  14.10.2013               9       19     7204       199.0           1.0\n",
              "1  23.10.2013               9       19     7096       799.0           1.0\n",
              "2  19.10.2013               9       19     7204       199.0           1.0\n",
              "3  17.10.2013               9       19     7206       199.0           1.0\n",
              "4  13.10.2013               9       19     7459       299.0           1.0"
            ]
          },
          "metadata": {
            "tags": []
          },
          "execution_count": 5
        }
      ]
    },
    {
      "cell_type": "code",
      "metadata": {
        "id": "SvMbAEUl84Qh",
        "colab_type": "code",
        "colab": {
          "base_uri": "https://localhost:8080/",
          "height": 359
        },
        "outputId": "dfd99504-48eb-4ecb-f8b8-e98ad0f904e9"
      },
      "source": [
        "transactions[transactions['item_cnt_day'] < 0].head(10)"
      ],
      "execution_count": 6,
      "outputs": [
        {
          "output_type": "execute_result",
          "data": {
            "text/html": [
              "<div>\n",
              "<style scoped>\n",
              "    .dataframe tbody tr th:only-of-type {\n",
              "        vertical-align: middle;\n",
              "    }\n",
              "\n",
              "    .dataframe tbody tr th {\n",
              "        vertical-align: top;\n",
              "    }\n",
              "\n",
              "    .dataframe thead th {\n",
              "        text-align: right;\n",
              "    }\n",
              "</style>\n",
              "<table border=\"1\" class=\"dataframe\">\n",
              "  <thead>\n",
              "    <tr style=\"text-align: right;\">\n",
              "      <th></th>\n",
              "      <th>date</th>\n",
              "      <th>date_block_num</th>\n",
              "      <th>shop_id</th>\n",
              "      <th>item_id</th>\n",
              "      <th>item_price</th>\n",
              "      <th>item_cnt_day</th>\n",
              "    </tr>\n",
              "  </thead>\n",
              "  <tbody>\n",
              "    <tr>\n",
              "      <th>701</th>\n",
              "      <td>13.10.2013</td>\n",
              "      <td>9</td>\n",
              "      <td>18</td>\n",
              "      <td>15675</td>\n",
              "      <td>199.0</td>\n",
              "      <td>-1.0</td>\n",
              "    </tr>\n",
              "    <tr>\n",
              "      <th>1798</th>\n",
              "      <td>09.10.2013</td>\n",
              "      <td>9</td>\n",
              "      <td>57</td>\n",
              "      <td>6501</td>\n",
              "      <td>699.0</td>\n",
              "      <td>-1.0</td>\n",
              "    </tr>\n",
              "    <tr>\n",
              "      <th>2647</th>\n",
              "      <td>09.10.2013</td>\n",
              "      <td>9</td>\n",
              "      <td>17</td>\n",
              "      <td>6091</td>\n",
              "      <td>999.0</td>\n",
              "      <td>-1.0</td>\n",
              "    </tr>\n",
              "    <tr>\n",
              "      <th>3302</th>\n",
              "      <td>09.10.2013</td>\n",
              "      <td>9</td>\n",
              "      <td>57</td>\n",
              "      <td>4181</td>\n",
              "      <td>1090.0</td>\n",
              "      <td>-1.0</td>\n",
              "    </tr>\n",
              "    <tr>\n",
              "      <th>3381</th>\n",
              "      <td>10.10.2013</td>\n",
              "      <td>9</td>\n",
              "      <td>57</td>\n",
              "      <td>4241</td>\n",
              "      <td>999.0</td>\n",
              "      <td>-1.0</td>\n",
              "    </tr>\n",
              "    <tr>\n",
              "      <th>3624</th>\n",
              "      <td>18.10.2013</td>\n",
              "      <td>9</td>\n",
              "      <td>57</td>\n",
              "      <td>4793</td>\n",
              "      <td>1499.0</td>\n",
              "      <td>-1.0</td>\n",
              "    </tr>\n",
              "    <tr>\n",
              "      <th>4956</th>\n",
              "      <td>11.10.2013</td>\n",
              "      <td>9</td>\n",
              "      <td>14</td>\n",
              "      <td>6091</td>\n",
              "      <td>999.0</td>\n",
              "      <td>-1.0</td>\n",
              "    </tr>\n",
              "    <tr>\n",
              "      <th>5500</th>\n",
              "      <td>21.10.2013</td>\n",
              "      <td>9</td>\n",
              "      <td>12</td>\n",
              "      <td>1735</td>\n",
              "      <td>299.0</td>\n",
              "      <td>-1.0</td>\n",
              "    </tr>\n",
              "    <tr>\n",
              "      <th>5506</th>\n",
              "      <td>21.10.2013</td>\n",
              "      <td>9</td>\n",
              "      <td>12</td>\n",
              "      <td>2090</td>\n",
              "      <td>449.0</td>\n",
              "      <td>-1.0</td>\n",
              "    </tr>\n",
              "    <tr>\n",
              "      <th>5531</th>\n",
              "      <td>29.10.2013</td>\n",
              "      <td>9</td>\n",
              "      <td>12</td>\n",
              "      <td>1830</td>\n",
              "      <td>599.0</td>\n",
              "      <td>-1.0</td>\n",
              "    </tr>\n",
              "  </tbody>\n",
              "</table>\n",
              "</div>"
            ],
            "text/plain": [
              "            date  date_block_num  shop_id  item_id  item_price  item_cnt_day\n",
              "701   13.10.2013               9       18    15675       199.0          -1.0\n",
              "1798  09.10.2013               9       57     6501       699.0          -1.0\n",
              "2647  09.10.2013               9       17     6091       999.0          -1.0\n",
              "3302  09.10.2013               9       57     4181      1090.0          -1.0\n",
              "3381  10.10.2013               9       57     4241       999.0          -1.0\n",
              "3624  18.10.2013               9       57     4793      1499.0          -1.0\n",
              "4956  11.10.2013               9       14     6091       999.0          -1.0\n",
              "5500  21.10.2013               9       12     1735       299.0          -1.0\n",
              "5506  21.10.2013               9       12     2090       449.0          -1.0\n",
              "5531  29.10.2013               9       12     1830       599.0          -1.0"
            ]
          },
          "metadata": {
            "tags": []
          },
          "execution_count": 6
        }
      ]
    },
    {
      "cell_type": "code",
      "metadata": {
        "id": "lRfSiTWoyJe4",
        "colab_type": "code",
        "colab": {
          "base_uri": "https://localhost:8080/",
          "height": 359
        },
        "outputId": "14f91ca7-3bab-4809-dbe5-c1489778d3f4"
      },
      "source": [
        "items.head(10)"
      ],
      "execution_count": 7,
      "outputs": [
        {
          "output_type": "execute_result",
          "data": {
            "text/html": [
              "<div>\n",
              "<style scoped>\n",
              "    .dataframe tbody tr th:only-of-type {\n",
              "        vertical-align: middle;\n",
              "    }\n",
              "\n",
              "    .dataframe tbody tr th {\n",
              "        vertical-align: top;\n",
              "    }\n",
              "\n",
              "    .dataframe thead th {\n",
              "        text-align: right;\n",
              "    }\n",
              "</style>\n",
              "<table border=\"1\" class=\"dataframe\">\n",
              "  <thead>\n",
              "    <tr style=\"text-align: right;\">\n",
              "      <th></th>\n",
              "      <th>item_name</th>\n",
              "      <th>item_id</th>\n",
              "      <th>item_category_id</th>\n",
              "    </tr>\n",
              "  </thead>\n",
              "  <tbody>\n",
              "    <tr>\n",
              "      <th>0</th>\n",
              "      <td>! ВО ВЛАСТИ НАВАЖДЕНИЯ (ПЛАСТ.)         D</td>\n",
              "      <td>0</td>\n",
              "      <td>40</td>\n",
              "    </tr>\n",
              "    <tr>\n",
              "      <th>1</th>\n",
              "      <td>!ABBYY FineReader 12 Professional Edition Full...</td>\n",
              "      <td>1</td>\n",
              "      <td>76</td>\n",
              "    </tr>\n",
              "    <tr>\n",
              "      <th>2</th>\n",
              "      <td>***В ЛУЧАХ СЛАВЫ   (UNV)                    D</td>\n",
              "      <td>2</td>\n",
              "      <td>40</td>\n",
              "    </tr>\n",
              "    <tr>\n",
              "      <th>3</th>\n",
              "      <td>***ГОЛУБАЯ ВОЛНА  (Univ)                      D</td>\n",
              "      <td>3</td>\n",
              "      <td>40</td>\n",
              "    </tr>\n",
              "    <tr>\n",
              "      <th>4</th>\n",
              "      <td>***КОРОБКА (СТЕКЛО)                       D</td>\n",
              "      <td>4</td>\n",
              "      <td>40</td>\n",
              "    </tr>\n",
              "    <tr>\n",
              "      <th>5</th>\n",
              "      <td>***НОВЫЕ АМЕРИКАНСКИЕ ГРАФФИТИ  (UNI)         ...</td>\n",
              "      <td>5</td>\n",
              "      <td>40</td>\n",
              "    </tr>\n",
              "    <tr>\n",
              "      <th>6</th>\n",
              "      <td>***УДАР ПО ВОРОТАМ (UNI)               D</td>\n",
              "      <td>6</td>\n",
              "      <td>40</td>\n",
              "    </tr>\n",
              "    <tr>\n",
              "      <th>7</th>\n",
              "      <td>***УДАР ПО ВОРОТАМ-2 (UNI)               D</td>\n",
              "      <td>7</td>\n",
              "      <td>40</td>\n",
              "    </tr>\n",
              "    <tr>\n",
              "      <th>8</th>\n",
              "      <td>***ЧАЙ С МУССОЛИНИ                     D</td>\n",
              "      <td>8</td>\n",
              "      <td>40</td>\n",
              "    </tr>\n",
              "    <tr>\n",
              "      <th>9</th>\n",
              "      <td>***ШУГАРЛЭНДСКИЙ ЭКСПРЕСС (UNI)             D</td>\n",
              "      <td>9</td>\n",
              "      <td>40</td>\n",
              "    </tr>\n",
              "  </tbody>\n",
              "</table>\n",
              "</div>"
            ],
            "text/plain": [
              "                                           item_name  item_id  item_category_id\n",
              "0          ! ВО ВЛАСТИ НАВАЖДЕНИЯ (ПЛАСТ.)         D        0                40\n",
              "1  !ABBYY FineReader 12 Professional Edition Full...        1                76\n",
              "2      ***В ЛУЧАХ СЛАВЫ   (UNV)                    D        2                40\n",
              "3    ***ГОЛУБАЯ ВОЛНА  (Univ)                      D        3                40\n",
              "4        ***КОРОБКА (СТЕКЛО)                       D        4                40\n",
              "5  ***НОВЫЕ АМЕРИКАНСКИЕ ГРАФФИТИ  (UNI)         ...        5                40\n",
              "6           ***УДАР ПО ВОРОТАМ (UNI)               D        6                40\n",
              "7         ***УДАР ПО ВОРОТАМ-2 (UNI)               D        7                40\n",
              "8           ***ЧАЙ С МУССОЛИНИ                     D        8                40\n",
              "9      ***ШУГАРЛЭНДСКИЙ ЭКСПРЕСС (UNI)             D        9                40"
            ]
          },
          "metadata": {
            "tags": []
          },
          "execution_count": 7
        }
      ]
    },
    {
      "cell_type": "code",
      "metadata": {
        "scrolled": true,
        "id": "RSePoPv0yJe6",
        "colab_type": "code",
        "colab": {
          "base_uri": "https://localhost:8080/",
          "height": 359
        },
        "outputId": "07d5c113-7746-41f0-aa95-963c453abbfc"
      },
      "source": [
        "item_categories.head(10)"
      ],
      "execution_count": 8,
      "outputs": [
        {
          "output_type": "execute_result",
          "data": {
            "text/html": [
              "<div>\n",
              "<style scoped>\n",
              "    .dataframe tbody tr th:only-of-type {\n",
              "        vertical-align: middle;\n",
              "    }\n",
              "\n",
              "    .dataframe tbody tr th {\n",
              "        vertical-align: top;\n",
              "    }\n",
              "\n",
              "    .dataframe thead th {\n",
              "        text-align: right;\n",
              "    }\n",
              "</style>\n",
              "<table border=\"1\" class=\"dataframe\">\n",
              "  <thead>\n",
              "    <tr style=\"text-align: right;\">\n",
              "      <th></th>\n",
              "      <th>item_category_name</th>\n",
              "      <th>item_category_id</th>\n",
              "    </tr>\n",
              "  </thead>\n",
              "  <tbody>\n",
              "    <tr>\n",
              "      <th>0</th>\n",
              "      <td>PC - Гарнитуры/Наушники</td>\n",
              "      <td>0</td>\n",
              "    </tr>\n",
              "    <tr>\n",
              "      <th>1</th>\n",
              "      <td>Аксессуары - PS2</td>\n",
              "      <td>1</td>\n",
              "    </tr>\n",
              "    <tr>\n",
              "      <th>2</th>\n",
              "      <td>Аксессуары - PS3</td>\n",
              "      <td>2</td>\n",
              "    </tr>\n",
              "    <tr>\n",
              "      <th>3</th>\n",
              "      <td>Аксессуары - PS4</td>\n",
              "      <td>3</td>\n",
              "    </tr>\n",
              "    <tr>\n",
              "      <th>4</th>\n",
              "      <td>Аксессуары - PSP</td>\n",
              "      <td>4</td>\n",
              "    </tr>\n",
              "    <tr>\n",
              "      <th>5</th>\n",
              "      <td>Аксессуары - PSVita</td>\n",
              "      <td>5</td>\n",
              "    </tr>\n",
              "    <tr>\n",
              "      <th>6</th>\n",
              "      <td>Аксессуары - XBOX 360</td>\n",
              "      <td>6</td>\n",
              "    </tr>\n",
              "    <tr>\n",
              "      <th>7</th>\n",
              "      <td>Аксессуары - XBOX ONE</td>\n",
              "      <td>7</td>\n",
              "    </tr>\n",
              "    <tr>\n",
              "      <th>8</th>\n",
              "      <td>Билеты (Цифра)</td>\n",
              "      <td>8</td>\n",
              "    </tr>\n",
              "    <tr>\n",
              "      <th>9</th>\n",
              "      <td>Доставка товара</td>\n",
              "      <td>9</td>\n",
              "    </tr>\n",
              "  </tbody>\n",
              "</table>\n",
              "</div>"
            ],
            "text/plain": [
              "        item_category_name  item_category_id\n",
              "0  PC - Гарнитуры/Наушники                 0\n",
              "1         Аксессуары - PS2                 1\n",
              "2         Аксессуары - PS3                 2\n",
              "3         Аксессуары - PS4                 3\n",
              "4         Аксессуары - PSP                 4\n",
              "5      Аксессуары - PSVita                 5\n",
              "6    Аксессуары - XBOX 360                 6\n",
              "7    Аксессуары - XBOX ONE                 7\n",
              "8           Билеты (Цифра)                 8\n",
              "9          Доставка товара                 9"
            ]
          },
          "metadata": {
            "tags": []
          },
          "execution_count": 8
        }
      ]
    },
    {
      "cell_type": "markdown",
      "metadata": {
        "id": "bmcyVarSyJe-",
        "colab_type": "text"
      },
      "source": [
        "Now use your `pandas` skills to get answers for the following questions. "
      ]
    },
    {
      "cell_type": "markdown",
      "metadata": {
        "id": "29joJnSZyJe_",
        "colab_type": "text"
      },
      "source": [
        "## What was the maximum total revenue among all the shops in June, 2014?\n",
        "\n",
        "\n",
        "* Revenue refers to total sales minus value of goods returned.\n",
        "* Sometimes items are returned, find such examples in the dataset. \n",
        "* It is handy to split `date` field into [`day`, `month`, `year`] components and use `df.year == 14` and `df.month == 6` in order to select target subset of dates.\n",
        "* You may work with `date` feature as with strings, or you may first convert it to `pd.datetime` type with `pd.to_datetime` function, but do not forget to set correct `format` argument."
      ]
    },
    {
      "cell_type": "code",
      "metadata": {
        "id": "QNSPLUg1yJfA",
        "colab_type": "code",
        "colab": {
          "base_uri": "https://localhost:8080/",
          "height": 204
        },
        "outputId": "d2a79251-0179-41dc-b76b-482a123d8d59"
      },
      "source": [
        "import datetime\n",
        "\n",
        "transactions['year'] = pd.DatetimeIndex(transactions['date']).year\n",
        "transactions['month'] = pd.DatetimeIndex(transactions['date']).month\n",
        "transactions['day'] = pd.DatetimeIndex(transactions['date']).day\n",
        "transactions.head()\n"
      ],
      "execution_count": 6,
      "outputs": [
        {
          "output_type": "execute_result",
          "data": {
            "text/html": [
              "<div>\n",
              "<style scoped>\n",
              "    .dataframe tbody tr th:only-of-type {\n",
              "        vertical-align: middle;\n",
              "    }\n",
              "\n",
              "    .dataframe tbody tr th {\n",
              "        vertical-align: top;\n",
              "    }\n",
              "\n",
              "    .dataframe thead th {\n",
              "        text-align: right;\n",
              "    }\n",
              "</style>\n",
              "<table border=\"1\" class=\"dataframe\">\n",
              "  <thead>\n",
              "    <tr style=\"text-align: right;\">\n",
              "      <th></th>\n",
              "      <th>date</th>\n",
              "      <th>date_block_num</th>\n",
              "      <th>shop_id</th>\n",
              "      <th>item_id</th>\n",
              "      <th>item_price</th>\n",
              "      <th>item_cnt_day</th>\n",
              "      <th>year</th>\n",
              "      <th>month</th>\n",
              "      <th>day</th>\n",
              "    </tr>\n",
              "  </thead>\n",
              "  <tbody>\n",
              "    <tr>\n",
              "      <th>0</th>\n",
              "      <td>14.10.2013</td>\n",
              "      <td>9</td>\n",
              "      <td>19</td>\n",
              "      <td>7204</td>\n",
              "      <td>199.0</td>\n",
              "      <td>1.0</td>\n",
              "      <td>2013</td>\n",
              "      <td>10</td>\n",
              "      <td>14</td>\n",
              "    </tr>\n",
              "    <tr>\n",
              "      <th>1</th>\n",
              "      <td>23.10.2013</td>\n",
              "      <td>9</td>\n",
              "      <td>19</td>\n",
              "      <td>7096</td>\n",
              "      <td>799.0</td>\n",
              "      <td>1.0</td>\n",
              "      <td>2013</td>\n",
              "      <td>10</td>\n",
              "      <td>23</td>\n",
              "    </tr>\n",
              "    <tr>\n",
              "      <th>2</th>\n",
              "      <td>19.10.2013</td>\n",
              "      <td>9</td>\n",
              "      <td>19</td>\n",
              "      <td>7204</td>\n",
              "      <td>199.0</td>\n",
              "      <td>1.0</td>\n",
              "      <td>2013</td>\n",
              "      <td>10</td>\n",
              "      <td>19</td>\n",
              "    </tr>\n",
              "    <tr>\n",
              "      <th>3</th>\n",
              "      <td>17.10.2013</td>\n",
              "      <td>9</td>\n",
              "      <td>19</td>\n",
              "      <td>7206</td>\n",
              "      <td>199.0</td>\n",
              "      <td>1.0</td>\n",
              "      <td>2013</td>\n",
              "      <td>10</td>\n",
              "      <td>17</td>\n",
              "    </tr>\n",
              "    <tr>\n",
              "      <th>4</th>\n",
              "      <td>13.10.2013</td>\n",
              "      <td>9</td>\n",
              "      <td>19</td>\n",
              "      <td>7459</td>\n",
              "      <td>299.0</td>\n",
              "      <td>1.0</td>\n",
              "      <td>2013</td>\n",
              "      <td>10</td>\n",
              "      <td>13</td>\n",
              "    </tr>\n",
              "  </tbody>\n",
              "</table>\n",
              "</div>"
            ],
            "text/plain": [
              "         date  date_block_num  shop_id  item_id  ...  item_cnt_day  year  month  day\n",
              "0  14.10.2013               9       19     7204  ...           1.0  2013     10   14\n",
              "1  23.10.2013               9       19     7096  ...           1.0  2013     10   23\n",
              "2  19.10.2013               9       19     7204  ...           1.0  2013     10   19\n",
              "3  17.10.2013               9       19     7206  ...           1.0  2013     10   17\n",
              "4  13.10.2013               9       19     7459  ...           1.0  2013     10   13\n",
              "\n",
              "[5 rows x 9 columns]"
            ]
          },
          "metadata": {
            "tags": []
          },
          "execution_count": 6
        }
      ]
    },
    {
      "cell_type": "code",
      "metadata": {
        "id": "A4A2kyCuyJfD",
        "colab_type": "code",
        "colab": {
          "base_uri": "https://localhost:8080/",
          "height": 1000
        },
        "outputId": "7cbdc529-b06d-4e79-939f-60496979d7db"
      },
      "source": [
        "#max_revenue \n",
        "rev = transactions[(transactions['year'] == 2014)  & (transactions['month'] == 6)]\n",
        "rev['shop_id'].unique()\n",
        "rev['item_sale'] = rev['item_price'] * rev ['item_cnt_day']\n",
        "rev.head()\n",
        "rev.groupby('shop_id')['item_sale'].sum().sort_values(ascending=False)"
      ],
      "execution_count": 7,
      "outputs": [
        {
          "output_type": "stream",
          "text": [
            "/usr/local/lib/python3.6/dist-packages/ipykernel_launcher.py:3: SettingWithCopyWarning: \n",
            "A value is trying to be set on a copy of a slice from a DataFrame.\n",
            "Try using .loc[row_indexer,col_indexer] = value instead\n",
            "\n",
            "See the caveats in the documentation: http://pandas.pydata.org/pandas-docs/stable/user_guide/indexing.html#returning-a-view-versus-a-copy\n",
            "  This is separate from the ipykernel package so we can avoid doing imports until\n"
          ],
          "name": "stderr"
        },
        {
          "output_type": "execute_result",
          "data": {
            "text/plain": [
              "shop_id\n",
              "31    5761264.70\n",
              "25    5369607.00\n",
              "54    5038218.90\n",
              "28    4906587.00\n",
              "27    4528085.50\n",
              "57    3052016.64\n",
              "42    3016842.00\n",
              "6     2646600.00\n",
              "43    2552462.98\n",
              "46    2542425.00\n",
              "47    2303173.00\n",
              "15    1982216.00\n",
              "58    1981781.00\n",
              "56    1922055.00\n",
              "19    1870101.00\n",
              "7     1858827.00\n",
              "35    1839955.30\n",
              "24    1827178.00\n",
              "18    1700520.00\n",
              "38    1618413.00\n",
              "53    1612711.00\n",
              "50    1597807.00\n",
              "16    1495333.00\n",
              "12    1486290.58\n",
              "21    1469082.00\n",
              "29    1401679.00\n",
              "30    1385410.00\n",
              "22    1327193.00\n",
              "59    1313043.60\n",
              "5     1292921.00\n",
              "26    1287926.00\n",
              "4     1234599.00\n",
              "2     1205757.00\n",
              "52    1167591.00\n",
              "41    1156103.00\n",
              "48    1128953.00\n",
              "14    1112327.00\n",
              "45    1073040.00\n",
              "17     988085.00\n",
              "44     979608.00\n",
              "37     954034.00\n",
              "3      807444.00\n",
              "55     796646.98\n",
              "49     787002.00\n",
              "39     747718.00\n",
              "51     661861.94\n",
              "10     539032.68\n",
              "40     277040.00\n",
              "13     251504.53\n",
              "33     201841.00\n",
              "34      43274.00\n",
              "20      -5999.00\n",
              "Name: item_sale, dtype: float64"
            ]
          },
          "metadata": {
            "tags": []
          },
          "execution_count": 7
        }
      ]
    },
    {
      "cell_type": "code",
      "metadata": {
        "id": "feE-4FVTyJfG",
        "colab_type": "code",
        "colab": {}
      },
      "source": [
        "max_revenue 5761264.70"
      ],
      "execution_count": 0,
      "outputs": []
    },
    {
      "cell_type": "markdown",
      "metadata": {
        "id": "IinKAABVyJfI",
        "colab_type": "text"
      },
      "source": [
        "## How many items are there?\n",
        "\n",
        "* Let's assume, that the items are returned for the same price as they had been sold"
      ]
    },
    {
      "cell_type": "code",
      "metadata": {
        "id": "sGxVHdKhyJfJ",
        "colab_type": "code",
        "colab": {
          "base_uri": "https://localhost:8080/",
          "height": 221
        },
        "outputId": "b89760b4-14ac-46f5-9033-a6cc9dee9594"
      },
      "source": [
        "#num_items_constant_price \n",
        "\n",
        "rev['item_id'].value_counts()"
      ],
      "execution_count": 8,
      "outputs": [
        {
          "output_type": "execute_result",
          "data": {
            "text/plain": [
              "20949    1170\n",
              "7834      361\n",
              "6675      334\n",
              "7790      321\n",
              "5822      314\n",
              "         ... \n",
              "21511       1\n",
              "17700       1\n",
              "3020        1\n",
              "17349       1\n",
              "8613        1\n",
              "Name: item_id, Length: 7985, dtype: int64"
            ]
          },
          "metadata": {
            "tags": []
          },
          "execution_count": 8
        }
      ]
    },
    {
      "cell_type": "code",
      "metadata": {
        "id": "1HvodenryJfP",
        "colab_type": "code",
        "colab": {
          "base_uri": "https://localhost:8080/",
          "height": 129
        },
        "outputId": "d5949f35-4c3f-4cb1-dcba-bacbb8a3a6d5"
      },
      "source": [
        "num_items_constant_price 7985"
      ],
      "execution_count": 9,
      "outputs": [
        {
          "output_type": "error",
          "ename": "SyntaxError",
          "evalue": "ignored",
          "traceback": [
            "\u001b[0;36m  File \u001b[0;32m\"<ipython-input-9-0eaae31f7778>\"\u001b[0;36m, line \u001b[0;32m1\u001b[0m\n\u001b[0;31m    num_items_constant_price 7985\u001b[0m\n\u001b[0m                                ^\u001b[0m\n\u001b[0;31mSyntaxError\u001b[0m\u001b[0;31m:\u001b[0m invalid syntax\n"
          ]
        }
      ]
    },
    {
      "cell_type": "markdown",
      "metadata": {
        "id": "4AwE6Lz3yJfT",
        "colab_type": "text"
      },
      "source": [
        "## What was the variance of the number of sold items per day sequence for the shop with `shop_id = 25` in December, 2014?\n",
        "\n",
        "* Do not count the items that were sold but returned back later.\n",
        "* Fill `total_num_items_sold`: An (ordered) array that contains the total number of items sold on each day \n",
        "* Fill `days`: An (ordered) array that contains all relevant days\n",
        "* Then compute variance of the of `total_num_items_sold`\n",
        "* If there were no sales at a given day, ***do not*** impute missing value with zero, just ignore that day"
      ]
    },
    {
      "cell_type": "code",
      "metadata": {
        "id": "o_ITgh5EyJfU",
        "colab_type": "code",
        "colab": {
          "base_uri": "https://localhost:8080/",
          "height": 204
        },
        "outputId": "97ad6560-0dd0-4f68-db8e-b7dfbd0ae731"
      },
      "source": [
        "#shop_id = 25\n",
        "#transactions.info()\n",
        "ipd = transactions[(transactions['item_cnt_day'] >= 0) & (transactions['shop_id'] == 25) & (transactions['year'] == 2014) & (transactions['month'] ==12) ]   \n",
        "ipd.head()\n"
      ],
      "execution_count": 38,
      "outputs": [
        {
          "output_type": "execute_result",
          "data": {
            "text/html": [
              "<div>\n",
              "<style scoped>\n",
              "    .dataframe tbody tr th:only-of-type {\n",
              "        vertical-align: middle;\n",
              "    }\n",
              "\n",
              "    .dataframe tbody tr th {\n",
              "        vertical-align: top;\n",
              "    }\n",
              "\n",
              "    .dataframe thead th {\n",
              "        text-align: right;\n",
              "    }\n",
              "</style>\n",
              "<table border=\"1\" class=\"dataframe\">\n",
              "  <thead>\n",
              "    <tr style=\"text-align: right;\">\n",
              "      <th></th>\n",
              "      <th>date</th>\n",
              "      <th>date_block_num</th>\n",
              "      <th>shop_id</th>\n",
              "      <th>item_id</th>\n",
              "      <th>item_price</th>\n",
              "      <th>item_cnt_day</th>\n",
              "      <th>year</th>\n",
              "      <th>month</th>\n",
              "      <th>day</th>\n",
              "    </tr>\n",
              "  </thead>\n",
              "  <tbody>\n",
              "    <tr>\n",
              "      <th>347641</th>\n",
              "      <td>12.01.2014</td>\n",
              "      <td>12</td>\n",
              "      <td>25</td>\n",
              "      <td>18191</td>\n",
              "      <td>299.0</td>\n",
              "      <td>1.0</td>\n",
              "      <td>2014</td>\n",
              "      <td>12</td>\n",
              "      <td>1</td>\n",
              "    </tr>\n",
              "    <tr>\n",
              "      <th>347645</th>\n",
              "      <td>12.01.2014</td>\n",
              "      <td>12</td>\n",
              "      <td>25</td>\n",
              "      <td>18258</td>\n",
              "      <td>199.0</td>\n",
              "      <td>1.0</td>\n",
              "      <td>2014</td>\n",
              "      <td>12</td>\n",
              "      <td>1</td>\n",
              "    </tr>\n",
              "    <tr>\n",
              "      <th>347669</th>\n",
              "      <td>12.01.2014</td>\n",
              "      <td>12</td>\n",
              "      <td>25</td>\n",
              "      <td>18792</td>\n",
              "      <td>149.0</td>\n",
              "      <td>1.0</td>\n",
              "      <td>2014</td>\n",
              "      <td>12</td>\n",
              "      <td>1</td>\n",
              "    </tr>\n",
              "    <tr>\n",
              "      <th>347674</th>\n",
              "      <td>12.01.2014</td>\n",
              "      <td>12</td>\n",
              "      <td>25</td>\n",
              "      <td>18701</td>\n",
              "      <td>199.0</td>\n",
              "      <td>1.0</td>\n",
              "      <td>2014</td>\n",
              "      <td>12</td>\n",
              "      <td>1</td>\n",
              "    </tr>\n",
              "    <tr>\n",
              "      <th>347675</th>\n",
              "      <td>12.01.2014</td>\n",
              "      <td>12</td>\n",
              "      <td>25</td>\n",
              "      <td>18685</td>\n",
              "      <td>199.0</td>\n",
              "      <td>1.0</td>\n",
              "      <td>2014</td>\n",
              "      <td>12</td>\n",
              "      <td>1</td>\n",
              "    </tr>\n",
              "  </tbody>\n",
              "</table>\n",
              "</div>"
            ],
            "text/plain": [
              "              date  date_block_num  shop_id  ...  year  month  day\n",
              "347641  12.01.2014              12       25  ...  2014     12    1\n",
              "347645  12.01.2014              12       25  ...  2014     12    1\n",
              "347669  12.01.2014              12       25  ...  2014     12    1\n",
              "347674  12.01.2014              12       25  ...  2014     12    1\n",
              "347675  12.01.2014              12       25  ...  2014     12    1\n",
              "\n",
              "[5 rows x 9 columns]"
            ]
          },
          "metadata": {
            "tags": []
          },
          "execution_count": 38
        }
      ]
    },
    {
      "cell_type": "code",
      "metadata": {
        "id": "2Ozd1DjByJfX",
        "colab_type": "code",
        "colab": {
          "base_uri": "https://localhost:8080/",
          "height": 561
        },
        "outputId": "17da6ad9-e4ac-4c69-bba8-f5651ae0ec46"
      },
      "source": [
        "total_num_items_sold = ipd.groupby('day')['item_cnt_day'].sum().sort_values(ascending=False)\n",
        "total_num_items_sold\n",
        "\n",
        "\n",
        "\n",
        "days = ipd.groupby('day')['item_cnt_day'].sum()\n",
        "days\n"
      ],
      "execution_count": 32,
      "outputs": [
        {
          "output_type": "execute_result",
          "data": {
            "text/plain": [
              "day\n",
              "1      200.0\n",
              "2      190.0\n",
              "3      204.0\n",
              "4      301.0\n",
              "5       90.0\n",
              "6      206.0\n",
              "7      229.0\n",
              "8      159.0\n",
              "9      235.0\n",
              "10     236.0\n",
              "11     147.0\n",
              "12     297.0\n",
              "13     432.0\n",
              "14     306.0\n",
              "15     225.0\n",
              "16     192.0\n",
              "17     285.0\n",
              "18     326.0\n",
              "19     418.0\n",
              "20     579.0\n",
              "21     381.0\n",
              "22     318.0\n",
              "23     371.0\n",
              "24     434.0\n",
              "25     506.0\n",
              "26     620.0\n",
              "27     746.0\n",
              "28     662.0\n",
              "30    1966.0\n",
              "31     776.0\n",
              "Name: item_cnt_day, dtype: float64"
            ]
          },
          "metadata": {
            "tags": []
          },
          "execution_count": 32
        }
      ]
    },
    {
      "cell_type": "code",
      "metadata": {
        "id": "AmHMB68ryJfZ",
        "colab_type": "code",
        "colab": {
          "base_uri": "https://localhost:8080/",
          "height": 561
        },
        "outputId": "aa00b5ac-5c29-4449-bbea-73c7d1efab23"
      },
      "source": [
        "total_num_items_sold_var =(ipd.groupby('day')['item_cnt_day'].var())\n",
        "\n",
        "total_num_items_sold_var"
      ],
      "execution_count": 29,
      "outputs": [
        {
          "output_type": "execute_result",
          "data": {
            "text/plain": [
              "day\n",
              "1      0.250204\n",
              "2      0.318078\n",
              "3      0.396623\n",
              "4      0.439344\n",
              "5      0.151337\n",
              "6      0.150538\n",
              "7      1.744485\n",
              "8      0.969348\n",
              "9      5.948395\n",
              "10     3.370044\n",
              "11     0.332000\n",
              "12     1.857143\n",
              "13     3.718289\n",
              "14     2.220542\n",
              "15     1.318355\n",
              "16     1.479117\n",
              "17     1.518885\n",
              "18     5.525344\n",
              "19     4.507391\n",
              "20     6.700495\n",
              "21     3.923963\n",
              "22     2.230618\n",
              "23     2.072724\n",
              "24     3.163754\n",
              "25     2.158389\n",
              "26     7.608312\n",
              "27     7.515804\n",
              "28    10.304247\n",
              "30    43.355580\n",
              "31    10.855135\n",
              "Name: item_cnt_day, dtype: float64"
            ]
          },
          "metadata": {
            "tags": []
          },
          "execution_count": 29
        }
      ]
    },
    {
      "cell_type": "markdown",
      "metadata": {
        "id": "S6RH2RQUyJfd",
        "colab_type": "text"
      },
      "source": [
        "## Vizualization of the daily items sold\n",
        "\n",
        "Use `total_num_items_sold` and `days` arrays to and plot the daily revenue of `shop_id = 25` in December, 2014.\n",
        "\n",
        "* plot-title: 'Daily items sold for shop_id = 25'"
      ]
    },
    {
      "cell_type": "code",
      "metadata": {
        "id": "m6jIIH9XyJfe",
        "colab_type": "code",
        "colab": {
          "base_uri": "https://localhost:8080/",
          "height": 312
        },
        "outputId": "81ff44d8-9f65-45a3-e06b-d74570420334"
      },
      "source": [
        "import matplotlib.pyplot as plt\n",
        "\n",
        "daily_rev = pd.DataFrame(days)\n",
        "days.head()\n",
        "\n",
        "days.plot( title = 'Daily items sold for shop_id = 25' )\n"
      ],
      "execution_count": 42,
      "outputs": [
        {
          "output_type": "execute_result",
          "data": {
            "text/plain": [
              "<matplotlib.axes._subplots.AxesSubplot at 0x7f473cc6e898>"
            ]
          },
          "metadata": {
            "tags": []
          },
          "execution_count": 42
        },
        {
          "output_type": "display_data",
          "data": {
            "image/png": "[encoded data removed]",
            "text/plain": [
              "<Figure size 432x288 with 1 Axes>"
            ]
          },
          "metadata": {
            "tags": []
          }
        }
      ]
    },
    {
      "cell_type": "markdown",
      "metadata": {
        "id": "xjwZx2STyJfg",
        "colab_type": "text"
      },
      "source": [
        "## What item category that generated the highest revenue in spring 2014?</b></li>\n",
        "\n",
        "   \n",
        "Spring is the period from March to Mai."
      ]
    },
    {
      "cell_type": "code",
      "metadata": {
        "id": "pN2yvU3QyJfi",
        "colab_type": "code",
        "colab": {
          "base_uri": "https://localhost:8080/",
          "height": 306
        },
        "outputId": "d3d09c2a-8476-46f8-98f8-8d08dd62df2d"
      },
      "source": [
        "transactions['revenue'] = transactions['item_price'] * transactions['item_cnt_day']\n",
        "transactions.head()\n",
        "spring_rev = transactions[(transactions['year'] == 2014) & (transactions['month'] >= 3) & (transactions['month'] <= 5)]\n",
        "spring_rev_id = pd.merge(spring_rev, items, on='item_id' )\n",
        "spring_rev_id.head()\n",
        "spring_rev_id.info()\n",
        "\n",
        "\n"
      ],
      "execution_count": 51,
      "outputs": [
        {
          "output_type": "stream",
          "text": [
            "<class 'pandas.core.frame.DataFrame'>\n",
            "Int64Index: 251732 entries, 0 to 251731\n",
            "Data columns (total 12 columns):\n",
            "date                251732 non-null object\n",
            "date_block_num      251732 non-null int64\n",
            "shop_id             251732 non-null int64\n",
            "item_id             251732 non-null int64\n",
            "item_price          251732 non-null float64\n",
            "item_cnt_day        251732 non-null float64\n",
            "year                251732 non-null int64\n",
            "month               251732 non-null int64\n",
            "day                 251732 non-null int64\n",
            "revenue             251732 non-null float64\n",
            "item_name           251732 non-null object\n",
            "item_category_id    251732 non-null int64\n",
            "dtypes: float64(3), int64(7), object(2)\n",
            "memory usage: 25.0+ MB\n"
          ],
          "name": "stdout"
        }
      ]
    },
    {
      "cell_type": "code",
      "metadata": {
        "id": "6DQQ1zChyJfk",
        "colab_type": "code",
        "colab": {
          "base_uri": "https://localhost:8080/",
          "height": 136
        },
        "outputId": "11b3e31c-3dc2-4b6b-e2b8-5713cd4d9104"
      },
      "source": [
        "category_id_with_max_revenue = spring_rev_id.groupby('item_category_id')['revenue'].sum().sort_values(ascending=False)\n",
        "category_id_with_max_revenue.head()"
      ],
      "execution_count": 52,
      "outputs": [
        {
          "output_type": "execute_result",
          "data": {
            "text/plain": [
              "item_category_id\n",
              "20    3.888570e+07\n",
              "12    3.664864e+07\n",
              "19    3.314918e+07\n",
              "23    2.330925e+07\n",
              "30    2.099255e+07\n",
              "Name: revenue, dtype: float64"
            ]
          },
          "metadata": {
            "tags": []
          },
          "execution_count": 52
        }
      ]
    },
    {
      "cell_type": "code",
      "metadata": {
        "id": "WR9lkCnwyJfo",
        "colab_type": "code",
        "colab": {}
      },
      "source": [
        "category_id_with_max_revenue = 20"
      ],
      "execution_count": 0,
      "outputs": []
    }
  ]
}